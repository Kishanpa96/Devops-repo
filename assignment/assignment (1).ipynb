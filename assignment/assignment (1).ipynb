{
 "cells": [
  {
   "cell_type": "code",
   "execution_count": 3,
   "id": "9207ce51-bc2e-41e5-b7bd-397d8ca3eab6",
   "metadata": {},
   "outputs": [
    {
     "name": "stdout",
     "output_type": "stream",
     "text": [
      "30 20\n"
     ]
    }
   ],
   "source": [
    "# Write a Python program to switch the values of two integers.\n",
    "# Input: n1 = 20, n2 = 30\n",
    "# Output: n1 = 30, n2 = 20\n",
    "n1 = 20\n",
    "n2= 30\n",
    "n3=n1\n",
    "n1=n2\n",
    "n2=n3\n",
    "print(n1, n2)"
   ]
  },
  {
   "cell_type": "code",
   "execution_count": 1,
   "id": "139941e6-3601-4b13-b211-d3abef140a64",
   "metadata": {},
   "outputs": [
    {
     "name": "stdout",
     "output_type": "stream",
     "text": [
      "30 20\n"
     ]
    }
   ],
   "source": [
    "#Write a Python program to switch two integer values without using extra variables.\n",
    "#Input: n1 = 20, n2 = 30\n",
    "# Output: n1 = 30, n2 = 20\n",
    "n1=20\n",
    "n2=30\n",
    "n1=n1+n2\n",
    "n2=n1-n2\n",
    "n1=n1-n2\n",
    "print(n1, n2)\n"
   ]
  },
  {
   "cell_type": "code",
   "execution_count": 6,
   "id": "ca2a19eb-17d4-49a7-80ca-53fc87f61c10",
   "metadata": {},
   "outputs": [
    {
     "name": "stdout",
     "output_type": "stream",
     "text": [
      "python hello\n"
     ]
    }
   ],
   "source": [
    "# Write a Python program to switch the values of two characters.\n",
    "#  Input: char1 = \"hello\", char2 = \"python\"\n",
    "# Output: char1 = \"python\", char2 = \"hello\"\n",
    "char1 = \"hello\"\n",
    "char2= \"python\"\n",
    "char3 = char1\n",
    "char1 = char2\n",
    "char2 = char3\n",
    "print(char1, char2)"
   ]
  },
  {
   "cell_type": "code",
   "execution_count": 8,
   "id": "70e78091-67d7-43b1-961c-e9b5072afbc0",
   "metadata": {},
   "outputs": [
    {
     "name": "stdout",
     "output_type": "stream",
     "text": [
      "python 200\n",
      "<class 'str'> <class 'int'>\n"
     ]
    }
   ],
   "source": [
    "# Write a Python program to switch one character value with one integer value.\n",
    "#  Input: n1 = 200, char2 = \"python\"\n",
    "# Output: n1 = \"python\", char2 = 200\n",
    "n1=200\n",
    "char2 = \"python\"\n",
    "temp= char2\n",
    "char2=n1\n",
    "n1=temp\n",
    "print(n1, char2)\n",
    "print(type(n1), type(char2))\n"
   ]
  },
  {
   "cell_type": "code",
   "execution_count": 9,
   "id": "9bd8966f-a2ba-4e80-8f71-8a35c1467c3f",
   "metadata": {},
   "outputs": [
    {
     "name": "stdout",
     "output_type": "stream",
     "text": [
      "Before deposit: current_balance=10000\n",
      "After deposit: current_balance=15000\n"
     ]
    }
   ],
   "source": [
    "# Write a Python program to update the customer's balance after a deposit.\n",
    "# Initial balance: current_balance = 10000\n",
    "# Deposit amount: deposit_balance = 5000\n",
    "# Output:\n",
    "     # Before deposit: current_balance = 10000\n",
    "    # After deposit: current_balance = 15000\n",
    "curr_balance=10000\n",
    "dep_balance=5000\n",
    "total_balance=curr_balance+dep_balance\n",
    "print(f\"Before deposit: current_balance={curr_balance}\")\n",
    "print(f\"After deposit: current_balance={total_balance}\")"
   ]
  },
  {
   "cell_type": "code",
   "execution_count": 10,
   "id": "c261ec70-0f57-4d1c-9c47-1ee2786d3cab",
   "metadata": {},
   "outputs": [
    {
     "name": "stdout",
     "output_type": "stream",
     "text": [
      "Precentage = 86.0\n"
     ]
    }
   ],
   "source": [
    "# Write a Python program to calculate the percentage of a student.\n",
    "# Input: obtain_marks = 430, out_of = 500\n",
    "# Output: Percentage =?\n",
    "obtain_mark = 430\n",
    "tota_mark=500\n",
    "obtain_percentage=(430/500)*100\n",
    "print(f\"Precentage = {obtain_percentage}\")\n"
   ]
  },
  {
   "cell_type": "code",
   "execution_count": 45,
   "id": "16f3d24a-93c0-42d3-8c2f-a22763e0b04b",
   "metadata": {},
   "outputs": [
    {
     "name": "stdout",
     "output_type": "stream",
     "text": [
      "Profit or Loss Precentage = -20.00%\n",
      "Profit or Loss Precentage = 20.0%\n"
     ]
    }
   ],
   "source": [
    "# Write a Python program to calculate the profit or loss percentage.\n",
    "#Input: cost_price = 500, selling_price = 600\n",
    "# Output:\n",
    " # Profit or Loss =\n",
    "cost_price = 500\n",
    "selling_price = 600\n",
    "inc_dec=selling_price-cost_price\n",
    "percentage_change=(inc_dec/cost_price)*100\n",
    "print(f\"Profit or Loss Precentage = {percentage_change:.2f}%\")\n",
    "print(f\"Profit or Loss Precentage = {abs(percentage_change)}%\")"
   ]
  },
  {
   "cell_type": "code",
   "execution_count": 25,
   "id": "26a4a125-3c82-4d84-981b-96c5c4a702f8",
   "metadata": {},
   "outputs": [
    {
     "name": "stdout",
     "output_type": "stream",
     "text": [
      "Simple Intrest = 1000.0\n"
     ]
    }
   ],
   "source": [
    "#  Write a Python program to calculate the simple interest.\n",
    "# Input: principal = 10000, rate = 5, time = 2\n",
    "# Output:\n",
    "  # Simple Interest =?\n",
    "principal = 10000\n",
    "rate=5\n",
    "time=2\n",
    "simple_intrest=(principal*rate*time)/100\n",
    "print(f\"Simple Intrest = {simple_intrest}\")\n"
   ]
  },
  {
   "cell_type": "code",
   "execution_count": 27,
   "id": "90759804-1016-4444-8df6-ca0333d93ed3",
   "metadata": {},
   "outputs": [
    {
     "name": "stdout",
     "output_type": "stream",
     "text": [
      "Simple Intrest = 1025.0\n"
     ]
    }
   ],
   "source": [
    "# Write a Python program to calculate the compound interest.\n",
    "# Input: principal = 10000, rate = 5, time = 2\n",
    "# Output:\n",
    "  # Compound Interest =?\n",
    "principal = 10000\n",
    "rate=5\n",
    "time=2\n",
    "compound_intrest=principal*(1+rate/100)**time-principal\n",
    "print(f\"Simple Intrest = {compound_intrest}\")\n"
   ]
  },
  {
   "cell_type": "code",
   "execution_count": 29,
   "id": "93f40de5-3f04-43b6-af03-3fee0192661f",
   "metadata": {},
   "outputs": [
    {
     "name": "stdout",
     "output_type": "stream",
     "text": [
      "Tax = 50000.00\n"
     ]
    }
   ],
   "source": [
    "# Write a Python program to calculate the tax on an income.\n",
    "# Input: income = 500000, tax_rate = 10\n",
    "# Output:\n",
    "  # Tax =?\n",
    "income=500000\n",
    "tax_rate=10\n",
    "tax=(income*tax_rate)/100\n",
    "print(f\"Tax = {tax:.2f}\") #:.2f give the 2 place decimal value"
   ]
  },
  {
   "cell_type": "code",
   "execution_count": 34,
   "id": "58270a11-1e61-4c0e-86d4-5601cab0760a",
   "metadata": {},
   "outputs": [
    {
     "name": "stdout",
     "output_type": "stream",
     "text": [
      "100.0\n",
      "100.00\n"
     ]
    }
   ],
   "source": [
    "# Write a Python program to convert an integer value to a float value.\n",
    "val=100\n",
    "float_val=float(val)\n",
    "print(float_val)\n",
    "print(f\"{float_val:.2f}\")"
   ]
  },
  {
   "cell_type": "code",
   "execution_count": 36,
   "id": "17fa0fac-7173-4c78-8ab5-66a95bc5906a",
   "metadata": {},
   "outputs": [
    {
     "name": "stdout",
     "output_type": "stream",
     "text": [
      "100\n",
      "<class 'str'>\n"
     ]
    }
   ],
   "source": [
    "# Write a Python program to convert an integer value to a string value.\n",
    "val=100\n",
    "string_val=str(val)\n",
    "print(string_val)\n",
    "print(type(string_val))"
   ]
  },
  {
   "cell_type": "code",
   "execution_count": 37,
   "id": "ab9f291f-57c5-49d0-b171-2049a41beafc",
   "metadata": {},
   "outputs": [
    {
     "name": "stdin",
     "output_type": "stream",
     "text": [
      "Enter the Radius Value :  7\n"
     ]
    },
    {
     "name": "stdout",
     "output_type": "stream",
     "text": [
      "Area of the circle = 153.86\n"
     ]
    }
   ],
   "source": [
    "# Write a Python program to calculate the area of a circle.\n",
    "# Input: radius = 7\n",
    "# Output:\n",
    "  # Area =?\n",
    "radius= 7\n",
    "area=3.14*(radius**2)\n",
    "print(f\"Area of the circle = {area}\")"
   ]
  },
  {
   "cell_type": "code",
   "execution_count": 39,
   "id": "64db9383-3470-4923-abe0-1a023e96bfac",
   "metadata": {},
   "outputs": [
    {
     "name": "stdout",
     "output_type": "stream",
     "text": [
      "Perimeter of the reactangle = 30\n"
     ]
    }
   ],
   "source": [
    "# Write a Python program to calculate the perimeter of a rectangle\n",
    "# Input: length = 10, breadth = 5\n",
    "# Output:\n",
    "   # Perimeter = ?\n",
    "length=10\n",
    "breadth=5\n",
    "area=2*(length+breadth)\n",
    "print(f\"Perimeter of the reactangle = {area}\")"
   ]
  },
  {
   "cell_type": "code",
   "execution_count": 41,
   "id": "5892e672-bde1-4c41-860b-130338ef06c1",
   "metadata": {},
   "outputs": [
    {
     "name": "stdout",
     "output_type": "stream",
     "text": [
      "Average = 35.0\n"
     ]
    }
   ],
   "source": [
    "# Write a Python program to calculate the average of three numbers.\n",
    "# Input: num1 = 25, num2 = 35, num3 = 45\n",
    "# Output:\n",
    "  # Average = ?\n",
    "num1=25\n",
    "num2=35\n",
    "num3=45\n",
    "avarage=(num1+num2+num3)/3\n",
    "print(f\"Average = {avarage}\")\n"
   ]
  },
  {
   "cell_type": "code",
   "execution_count": 43,
   "id": "07046370-1c9b-4e68-a81f-d8505a44a7df",
   "metadata": {},
   "outputs": [
    {
     "name": "stdout",
     "output_type": "stream",
     "text": [
      "Percentage Change = -25.00\n",
      "Percentage Change = 25.0%\n"
     ]
    }
   ],
   "source": [
    "# Write a Python program to calculate the percentage increase or decrease.\n",
    "# Input: initial_value = 200, final_value = 250\n",
    "# Output:\n",
    "   # Percentage Change = ?\n",
    "initial_value=200\n",
    "final_value=250\n",
    "inc_dec=final_value-initial_value\n",
    "percentage_change=(inc_dec/initial_value)*100\n",
    "print(f\"Percentage Change = {percentage_change:.2f}\")\n",
    "print(f\"Percentage Change = {abs(percentage_change)}%\")"
   ]
  },
  {
   "cell_type": "code",
   "execution_count": 47,
   "id": "89b159b5-61a8-4d29-a248-a5bfdee166eb",
   "metadata": {},
   "outputs": [
    {
     "name": "stdout",
     "output_type": "stream",
     "text": [
      "Total Mark = 330\n",
      "Average Mark = 82.5\n"
     ]
    }
   ],
   "source": [
    "# Write a Python program to calculate the total and average of marks in 4 subjects.\n",
    "# Input Example:\n",
    "    # Subject 1 marks: 80\n",
    "    # Subject 2 marks: 75\n",
    "    # Subject 3 marks: 90\n",
    "    # Subject 4 marks: 85\n",
    "sub1=80\n",
    "sub2=75\n",
    "sub3=90\n",
    "sub4=85\n",
    "total_mark=sub1+sub2+sub3+sub4\n",
    "avg=total_mark/4\n",
    "print(f\"Total Mark = {total_mark}\")\n",
    "print(f\"Average Mark = {avg}\")"
   ]
  },
  {
   "cell_type": "code",
   "execution_count": 48,
   "id": "bc75ac4f-c005-4aec-b879-0945856ea158",
   "metadata": {},
   "outputs": [
    {
     "name": "stdout",
     "output_type": "stream",
     "text": [
      "Area of the Circle = 153.86 \n"
     ]
    }
   ],
   "source": [
    "# Write a Python program to calculate the area of a circle.\n",
    "# Input: radius = 7\n",
    "radius=7\n",
    "area=3.14*(radius**2)\n",
    "print(f\"Area of the Circle = {area} \")\n"
   ]
  },
  {
   "cell_type": "code",
   "execution_count": 49,
   "id": "32146ae4-c32c-4cef-8982-88943b6eaaf1",
   "metadata": {},
   "outputs": [
    {
     "name": "stdout",
     "output_type": "stream",
     "text": [
      "Perimeter of reactangle= 30\n"
     ]
    }
   ],
   "source": [
    "# Write a Python program to calculate the perimeter of a rectangle.\n",
    "# Input: length = 10, breadth = 5\n",
    "length=10\n",
    "breadth=5\n",
    "perimeter=2*(length+breadth)\n",
    "print(f\"Perimeter of reactangle= {perimeter}\")"
   ]
  },
  {
   "cell_type": "code",
   "execution_count": 51,
   "id": "b8011ddd-080a-471d-b899-22c6d203a060",
   "metadata": {},
   "outputs": [
    {
     "name": "stdout",
     "output_type": "stream",
     "text": [
      "Aviable Balance = 9000.00 \n"
     ]
    }
   ],
   "source": [
    "# Write a Python program to update the balance after a withdrawal of 3000.\n",
    "# Before: balance = 12000\n",
    "# After:?\n",
    "bef_bal=12000\n",
    "withdrawal=3000\n",
    "avl_bal=bef_bal-withdrawal\n",
    "print(f\"Aviable Balance = {avl_bal:.2f} \")\n"
   ]
  },
  {
   "cell_type": "code",
   "execution_count": 52,
   "id": "c9c3f5e5-1605-4b3b-bae3-30d7f55ed139",
   "metadata": {},
   "outputs": [
    {
     "name": "stdout",
     "output_type": "stream",
     "text": [
      "Total Cart Items = 8\n"
     ]
    }
   ],
   "source": [
    "# Write a Python program to increase items in a shopping cart by 3.\n",
    "# Before: cart_items = 5\n",
    "# After:?\n",
    "curr_cart_item=5\n",
    "add_more=3\n",
    "cart_items=curr_cart_item+add_more\n",
    "print(f\"Total Cart Items = {cart_items}\")\n"
   ]
  },
  {
   "cell_type": "code",
   "execution_count": 55,
   "id": "c3c63b2b-5cb1-4461-b580-2bc6d28c38cf",
   "metadata": {},
   "outputs": [
    {
     "name": "stdout",
     "output_type": "stream",
     "text": [
      "Discounted Price = 800.0\n",
      "Discounted Price = 800\n"
     ]
    }
   ],
   "source": [
    "# Write a Python program to apply a 20% discount to the price.\n",
    "# Before: price = 1000\n",
    "# After: ?\n",
    "curr_price=1000\n",
    "discount=20\n",
    "dis_price=curr_price-(curr_price*discount)/100\n",
    "dis_price1=curr_price-(curr_price*discount)//100\n",
    "print(f\"Discounted Price = {dis_price}\")\n",
    "print(f\"Discounted Price = {dis_price1}\")"
   ]
  },
  {
   "cell_type": "code",
   "execution_count": 56,
   "id": "5a894691-b384-4c2c-a1c4-61f1399317e0",
   "metadata": {},
   "outputs": [
    {
     "name": "stdout",
     "output_type": "stream",
     "text": [
      "Temrature in Fahrenheit = 91.4\n"
     ]
    }
   ],
   "source": [
    "# Convert a temperature of 33 degrees Celsius to Fahrenheit.\n",
    "celsius_temp=33\n",
    "fahrenheit=(celsius_temp * 9/5) + 32\n",
    "print(f\"Temrature in Fahrenheit = {fahrenheit}\")"
   ]
  },
  {
   "cell_type": "code",
   "execution_count": 58,
   "id": "d39dfd3e-10a6-4dd9-ba0c-a47520d7a59c",
   "metadata": {},
   "outputs": [
    {
     "name": "stdout",
     "output_type": "stream",
     "text": [
      "Temrature in Celsius = 37.77777777777778\n",
      "Temrature in Celsius = 37.78\n"
     ]
    }
   ],
   "source": [
    "# Convert a temperature of 100 degrees Fahrenheit to Celsius.\n",
    "fahrenheit_temp =100\n",
    "celsius_temp= (fahrenheit_temp-32)*5/9\n",
    "print(f\"Temrature in Celsius = {celsius_temp}\")\n",
    "print(f\"Temrature in Celsius = {celsius_temp:.2f}\")"
   ]
  },
  {
   "cell_type": "code",
   "execution_count": 60,
   "id": "cf5dbfb3-16ca-45e0-b5c9-a22e02f05708",
   "metadata": {},
   "outputs": [
    {
     "name": "stdout",
     "output_type": "stream",
     "text": [
      "The value of x² = 25\n"
     ]
    }
   ],
   "source": [
    "# Square of a Variable: Calculate the value of x² when x = 5.\n",
    "x=5\n",
    "sqr=x**2\n",
    "print(f\"The value of x² = {sqr}\")"
   ]
  },
  {
   "cell_type": "code",
   "execution_count": 61,
   "id": "69f7697a-013a-4006-8bce-d6cec71be547",
   "metadata": {},
   "outputs": [
    {
     "name": "stdout",
     "output_type": "stream",
     "text": [
      "The value of x² = 8\n"
     ]
    }
   ],
   "source": [
    "# Cube of a Variable: Calculate the value of y³ when y = 2.\n",
    "y=2\n",
    "cube=y**3\n",
    "print(f\"The value of x² = {cube}\")"
   ]
  },
  {
   "cell_type": "code",
   "execution_count": 62,
   "id": "fde2048e-41e8-4cff-a5f8-2d74e77e869b",
   "metadata": {},
   "outputs": [
    {
     "name": "stdout",
     "output_type": "stream",
     "text": [
      "Value of the expression when x=4 is 33\n"
     ]
    }
   ],
   "source": [
    "# Expression Simplification: Simplify the expression x² + 3x + 5 when x = 4.\n",
    "x=4\n",
    "exp =x**2+3*x+5\n",
    "print(f\"Value of the expression when x=4 is {exp}\")"
   ]
  },
  {
   "cell_type": "code",
   "execution_count": 63,
   "id": "976f2955-b2d7-4e5e-b68f-d917474a04dc",
   "metadata": {},
   "outputs": [
    {
     "name": "stdout",
     "output_type": "stream",
     "text": [
      "The value of expression x² + y², when x = 3 and y = 4 is 25\n"
     ]
    }
   ],
   "source": [
    "# Sum of Squares: Find the sum of squares of two variables, x² + y², when x = 3 and y = 4.\n",
    "x=3\n",
    "y=4\n",
    "exp=x**2+y**2\n",
    "print(f\"The value of expression x² + y², when x = 3 and y = 4 is {exp}\")"
   ]
  },
  {
   "cell_type": "code",
   "execution_count": 64,
   "id": "1a4c4657-903a-4ab6-9dc4-89c42ec1ca8c",
   "metadata": {},
   "outputs": [
    {
     "name": "stdout",
     "output_type": "stream",
     "text": [
      "The value of expression x² - y², when x = 6 and y = 2 is 32\n"
     ]
    }
   ],
   "source": [
    "# Dierence of Squares: Simplify x² - y² when x = 6 and y = 2.\n",
    "x=6\n",
    "y=2\n",
    "exp=x**2-y**2\n",
    "print(f\"The value of expression x² - y², when x = 6 and y = 2 is {exp}\")"
   ]
  },
  {
   "cell_type": "code",
   "execution_count": 65,
   "id": "f2654ab7-215c-4cc4-8e2b-c1c8a3057120",
   "metadata": {},
   "outputs": [
    {
     "name": "stdout",
     "output_type": "stream",
     "text": [
      "The value of expression x² + 2xy + y², when x = 2 and y = 3 is 25\n"
     ]
    }
   ],
   "source": [
    "# Polynomials with Powers: Simplify the expression x² + 2xy + y² when x = 2 and y = 3.\n",
    "x=2\n",
    "y=3\n",
    "exp=x**2+2*x*y+y**2\n",
    "print(f\"The value of expression x² + 2xy + y², when x = 2 and y = 3 is {exp}\")"
   ]
  },
  {
   "cell_type": "code",
   "execution_count": null,
   "id": "076ddb4a-16e4-476c-8146-6b334ec6e667",
   "metadata": {},
   "outputs": [],
   "source": [
    "# "
   ]
  }
 ],
 "metadata": {
  "kernelspec": {
   "display_name": "Python 3 (ipykernel)",
   "language": "python",
   "name": "python3"
  },
  "language_info": {
   "codemirror_mode": {
    "name": "ipython",
    "version": 3
   },
   "file_extension": ".py",
   "mimetype": "text/x-python",
   "name": "python",
   "nbconvert_exporter": "python",
   "pygments_lexer": "ipython3",
   "version": "3.13.3"
  }
 },
 "nbformat": 4,
 "nbformat_minor": 5
}
