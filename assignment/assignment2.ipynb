{
 "cells": [
  {
   "cell_type": "code",
   "execution_count": 2,
   "id": "a35a385c-6272-48de-9a4f-242afbf2f678",
   "metadata": {},
   "outputs": [
    {
     "name": "stdin",
     "output_type": "stream",
     "text": [
      "Enter the Cost Price: 100\n",
      "Enter the Selling Price: 80\n"
     ]
    },
    {
     "name": "stdout",
     "output_type": "stream",
     "text": [
      "The loss is 20.0%\n"
     ]
    }
   ],
   "source": [
    "# Write a python program that takes input for the cost price and selling price of an item.\n",
    "# Hints\n",
    "    # Prompt the user to input the cost price and selling price.\n",
    "    # Determine whether the transaction resulted in a profit or loss.\n",
    "    # If there is a profit calculate the profit percentage; if there is a loss calculate the loss percentage.\n",
    "    # Display the profit or loss and the respective percentage.\n",
    "cost_price=float(input(\"Enter the Cost Price:\"))\n",
    "selling_price=float(input(\"Enter the Selling Price:\"))\n",
    "if(selling_price-cost_price>0):\n",
    "    profit=(selling_price-cost_price)*100/cost_price\n",
    "    print(f\"The profit is {profit}%\")\n",
    "elif(cost_price-selling_price>0):\n",
    "    profit=abs(cost_price-selling_price)*100/cost_price\n",
    "    print(f\"The loss is {profit}%\")\n",
    "else:\n",
    "    print(\"No profit or loss\")"
   ]
  },
  {
   "cell_type": "code",
   "execution_count": 4,
   "id": "300fce0a-bca9-4153-b25a-e9e23ac83485",
   "metadata": {},
   "outputs": [
    {
     "name": "stdin",
     "output_type": "stream",
     "text": [
      "Enter the Runs scored by player1 (0-100): 63\n",
      "Enter the Runs scored by player2 (0-100): 66\n",
      "Enter the Runs scored by player3 (0-100): 55\n",
      "Enter the Runs scored by player4 (0-100): 44\n",
      "Enter the Runs scored by player5 (0-100): 66\n"
     ]
    },
    {
     "name": "stdout",
     "output_type": "stream",
     "text": [
      "Total runs is 294\n",
      "Average runs is 58.8\n"
     ]
    }
   ],
   "source": [
    "# 2. Task: Cricket Stats Analyzer\n",
    "# Objective: Write a script to analyze cricket stats for a team.\n",
    "# Hints:\n",
    "#     Prompt the user to input the runs scored by each of the five players in a cricket match.\n",
    "#     For each player (Player 1 to Player 5) ask the user to input the runs they scored.\n",
    "#     Calculate the total runs scored by all players and the average runs.\n",
    "#     Display the total runs and average runs to the user.\n",
    "player1=int(input(\"Enter the Runs scored by player1 (0-100):\"))\n",
    "player2=int(input(\"Enter the Runs scored by player2 (0-100):\"))\n",
    "player3=int(input(\"Enter the Runs scored by player3 (0-100):\"))\n",
    "player4=int(input(\"Enter the Runs scored by player4 (0-100):\"))\n",
    "player5=int(input(\"Enter the Runs scored by player5 (0-100):\"))\n",
    "if( 0<player1<=100 and 0<player2<=100 and 0<player3<=100 and 0<player4<=100 and 0<player5<=100):\n",
    "    total_sum=player1+player2+player3+player4+player5\n",
    "    avg=total_sum/5\n",
    "    print(f\"Total runs is {total_sum}\")\n",
    "    print(f\"Average runs is {avg}\")\n",
    "else:\n",
    "    print(\"please enter the runs correctly\")"
   ]
  },
  {
   "cell_type": "code",
   "execution_count": 9,
   "id": "b6ed22f8-f440-458d-9216-aa507124352f",
   "metadata": {},
   "outputs": [
    {
     "name": "stdin",
     "output_type": "stream",
     "text": [
      "Enter your age please: 45.6\n"
     ]
    },
    {
     "name": "stdout",
     "output_type": "stream",
     "text": [
      " 19.40 of years left until retirement\n"
     ]
    }
   ],
   "source": [
    "# 3. Task: Retirement Age Calculator\n",
    "# Objective: Write a program that prompts the user for their age and tells them how many years until they reach retirement age (65).\n",
    "# Hints:\n",
    "#     Ask the user to input their age.\n",
    "#     Calculate how many more years they have until they reach 65 years of age.\n",
    "#     Display the number of years left until retirement or a message if the user has already reached retirement age.\n",
    "age=float(input(\"Enter your age please:\"))\n",
    "if(age<65):\n",
    "    gap=65-age\n",
    "    print(f\" {gap:.2f} of years left until retirement\")\n",
    "else:  \n",
    "    print(\"Sorry, You have already reached retirement age\")\n",
    "          "
   ]
  },
  {
   "cell_type": "code",
   "execution_count": 11,
   "id": "e2f39b71-848e-4098-ac4c-9624f221eac4",
   "metadata": {},
   "outputs": [
    {
     "name": "stdin",
     "output_type": "stream",
     "text": [
      "Enter the redius: 5\n"
     ]
    },
    {
     "name": "stdout",
     "output_type": "stream",
     "text": [
      "Area Of the circle is 78.50\n"
     ]
    }
   ],
   "source": [
    "# 4. Task: Calculate the Area of a Circle\n",
    "# Objective: Write a program to calculate the area of a circle.\n",
    "# Hints:\n",
    "#     Ask the user to input the radius of the circle.\n",
    "#     Calculate the area of the circle using the formula: Area = π * radius^2.\n",
    "#     Display the calculated area.\n",
    "radius=float(input(\"Enter the redius:\"))\n",
    "if(radius>0):\n",
    "    area=3.14*(radius**2)\n",
    "    print(f\"Area Of the circle is {area:.2f}\")\n",
    "else:\n",
    "    print(\"Pleaase enter the correct \")"
   ]
  },
  {
   "cell_type": "code",
   "execution_count": 3,
   "id": "968c02f8-52fb-42a6-8c61-80f2b5301a1b",
   "metadata": {},
   "outputs": [
    {
     "name": "stdout",
     "output_type": "stream",
     "text": [
      "Gross sallery is 55000\n",
      "Tax  is 5500.0\n",
      "Net sallery is 47500.0\n"
     ]
    }
   ],
   "source": [
    "# Task: Salary Calculation\n",
    "# Objective: You have to calculate an employee's salary by computing the gross salary tax and net salary based on the given parameters.\n",
    "# Hints:\n",
    "    # Base Salary = ₹50000\n",
    "    # Bonus = ₹5000\n",
    "    # Tax Rate = 10% \n",
    "    # Other Charges = ₹2000\n",
    "# Display the Gross Salary Tax and Net Salary.\n",
    "base_sallary=50000\n",
    "bonus=5000\n",
    "tax_rate=10\n",
    "other_charge=2000\n",
    "if( base_sallary and bonus and tax_rate and other_charge):\n",
    "    gross_salary = base_sallary + bonus\n",
    "    tax = gross_salary * tax_rate/100\n",
    "    net_salary = gross_salary - tax - other_charge\n",
    "    print(f\"Gross sallery is {gross_salary}\")\n",
    "    print(f\"Tax  is {tax}\")\n",
    "    print(f\"Net sallery is {net_salary}\")\n",
    "else:\n",
    "    print(\"somthing is missing\")"
   ]
  },
  {
   "cell_type": "code",
   "execution_count": 5,
   "id": "21e962de-da50-4499-9e96-efbb1481b7e5",
   "metadata": {},
   "outputs": [
    {
     "name": "stdin",
     "output_type": "stream",
     "text": [
      "Enter your age please 45\n",
      "Enter your monthly income please 260000\n",
      "Enter your cradit score please 605\n"
     ]
    },
    {
     "name": "stdout",
     "output_type": "stream",
     "text": [
      "Loan Rejected\n"
     ]
    }
   ],
   "source": [
    "# Task: Bank Loan Approval System\n",
    "# Objective: You have to create a javascript script that checks whether an user is eligible for a bank loan based on various criteria.\n",
    "# Hints:\n",
    "#     The applicant's age must be between 18 and 60 years.\n",
    "#     The applicant's monthly income must be greater than or equal to ₹25000.\n",
    "#     The applicant's credit score must be greater than or equal to 700.\n",
    "#     The applicant must not have any outstanding debts greater than ₹10000\n",
    "# Output:\n",
    "#     Display \"Loan Approved\" if the applicant meets all the conditions.\n",
    "# Otherwise display \"Loan Rejected\".\n",
    "age=float(input(\"Enter your age please\"))\n",
    "if(18<age<60):\n",
    "    monthly_in=float(input(\"Enter your monthly income please\"))\n",
    "    if(monthly_in>=25000):\n",
    "        cradit_score=float(input(\"Enter your cradit score please\"))\n",
    "        if(cradit_score>=700):\n",
    "            debt=float(input(\"Enter your cradit score please\"))\n",
    "            if(debt<=10000):\n",
    "                print(\"Loan Approved\") \n",
    "            else:\n",
    "                print(\"Loan Rejected\") \n",
    "        else:\n",
    "            print(\"Loan Rejected\")\n",
    "    else:\n",
    "        print(\"Loan Rejected\")\n",
    "else:\n",
    "    print(\"Loan Rejected\")"
   ]
  },
  {
   "cell_type": "code",
   "execution_count": 10,
   "id": "6a11a0bc-84de-4259-a5db-bbbf95b41f31",
   "metadata": {},
   "outputs": [
    {
     "name": "stdin",
     "output_type": "stream",
     "text": [
      "Enter your acadmic score percentage please 65\n",
      "Enter your attendence percentage please 76\n",
      "Any extracurricular activities. (Answer in: 1 if Yes and 0 for no) 1\n"
     ]
    },
    {
     "name": "stdout",
     "output_type": "stream",
     "text": [
      "Eligible for Interview\n"
     ]
    }
   ],
   "source": [
    "# 7. Task: Students Interview Eligibility Checker\n",
    "# Objective:you have to design a javascript script that checks whether a student is eligible for an interview based on their academic score attendance percentage and extracurricular participation.\n",
    "# Input:\n",
    "#     Academic Score (percentage): A floating-point number representing the student's academic score. Ex .78.88\n",
    "#     Attendance Percentage: A floating-point number representing the student's attendance percentage. Ex.85.88\n",
    "#     Extracurricular Participation: This indicates whether the student has participated in any extracurricular activities. Ex.Yes/no\n",
    "#     Conditions for Interview Eligibility:\n",
    "#     The student’s academic score must be 60 or above.\n",
    "#     The student’s attendance percentage must be 75 or above.\n",
    "#     The student should have participated in at least one extracurricular activity.\n",
    "# Output:\n",
    "#     If the student meets all three conditions print \"Eligible for Interview\".\n",
    "#     If the student fails to meet any of the conditions print \"Not Eligible for Interview\".\n",
    "score=float(input(\"Enter your acadmic score percentage please\"))\n",
    "if(score>=60):\n",
    "    attendence=float(input(\"Enter your attendence percentage please\"))\n",
    "    if(attendence>=75):\n",
    "        extra_carr=int(input(\"Any extracurricular activities. (Answer in: 1 if Yes and 0 for no)\"))\n",
    "        if(extra_carr):\n",
    "            print(\"Eligible for Interview\")\n",
    "        else:\n",
    "            print(\"Sorry!, Not Eligible for Interview\")\n",
    "    else:\n",
    "        print(\"Sorry!, Not Eligible for Interview\")\n",
    "else:\n",
    "    print(\"Sorry!, Not Eligible for Interview\")"
   ]
  },
  {
   "cell_type": "code",
   "execution_count": 14,
   "id": "ad3e724e-ae37-4e0d-ad17-6d6bac9c7a06",
   "metadata": {},
   "outputs": [
    {
     "name": "stdin",
     "output_type": "stream",
     "text": [
      "Enter your Email ghu@gmail.com\n"
     ]
    },
    {
     "name": "stdout",
     "output_type": "stream",
     "text": [
      "Email is eligible for registration\n"
     ]
    }
   ],
   "source": [
    "# 8. Task: Validating Email Domain\n",
    "    # Objective: You will implement a python program to validate the domain of a user's email address. The program will check if the email contains a specific domain (e.g. \"gmail.com\").\n",
    "    # Problem Statement:\n",
    "# You are building a registration system that only accepts email addresses from a certain domain (e.g. \"gmail.com\"). Your task is to:\n",
    "    # Prompt the user to enter their email address.\n",
    "    # Check if the entered email address contains the domain \"gmail.com\".\n",
    "    # Display whether the email is eligible for registration based on the domain check.\n",
    "user_email=str(input(\"Enter your Email\"))\n",
    "if(\"gmail.comm\" in user_email):\n",
    "    print(\"Email is not eligible for registration\")\n",
    "elif(\"gmail.commm\" in user_email):\n",
    "    print(\"Email is not eligible for registration\")\n",
    "elif(\"gmail.com\" in user_email):\n",
    "    print(\"Email is eligible for registration\")\n",
    "else:\n",
    "    print(\"Email is not eligible for registration\")"
   ]
  },
  {
   "cell_type": "code",
   "execution_count": 13,
   "id": "35d97344-9afb-47bf-ab38-461e11132868",
   "metadata": {},
   "outputs": [
    {
     "name": "stdin",
     "output_type": "stream",
     "text": [
      "Enter your Access Level (ADMIN = admin, STAFF = staff, or VISITOR = visitor): staff\n",
      "Enter your Access Level (ADMIN = admin, STAFF = staff, or VISITOR = visitor): visitor\n"
     ]
    },
    {
     "name": "stdout",
     "output_type": "stream",
     "text": [
      "Employees have different access level objects.\n"
     ]
    }
   ],
   "source": [
    "# Task 9: Employee Access Level System\n",
    "# Objective:\n",
    "#  You are building a security system for a corporate office where employees are assigned different access levels:\n",
    "# Admin Access\n",
    "# Staff Access\n",
    "# Visitor Access\n",
    "# Scenario:\n",
    "    # The system must check whether two employees have been assigned exactly the same access level object in the system. This is important to avoid mistakenly duplicating access levels in memory or logic.\n",
    "    # Instructions:\n",
    "        # ADMIN = \"admin\"\n",
    "        # STAFF = \"staff\"\n",
    "        # VISITOR = \"visitor\"\n",
    "# Assign access levels to two employees using these predefined constants.\n",
    "# Display:\n",
    "    # \"Both employees have the same access level object.\" if they point to the same object.\n",
    "    # \"Employees have different access level objects.\" otherwise.\n",
    "emp1= str(input(\"Enter your Access Level (ADMIN = admin, STAFF = staff, or VISITOR = visitor):\"))\n",
    "emp2= str(input(\"Enter your Access Level (ADMIN = admin, STAFF = staff, or VISITOR = visitor):\"))\n",
    "if( emp1 == emp2):\n",
    "    print(\"Both employees have the same access level object.\")\n",
    "else:\n",
    "    print(\"Employees have different access level objects.\")\n"
   ]
  },
  {
   "cell_type": "code",
   "execution_count": 22,
   "id": "161d1279-b107-4078-a4b0-9b8f1e236d76",
   "metadata": {},
   "outputs": [
    {
     "name": "stdin",
     "output_type": "stream",
     "text": [
      "Enter your marks: 99.99\n"
     ]
    },
    {
     "name": "stdout",
     "output_type": "stream",
     "text": [
      "Marks:99.99-> grade: A\n"
     ]
    }
   ],
   "source": [
    "# 10.Task : Student Grading System\n",
    "# Create a javascript program to calculate a student's grade based on their marks.\n",
    "# Task:\n",
    "# Input: Prompt the user to enter their marks.\n",
    "# Criteria:\n",
    "    # Grade A: 90–100\n",
    "    # Grade B: 80–89\n",
    "    # Grade C: 70–79\n",
    "    # Grade D: 60–69\n",
    "    # Grade E: 50–59\n",
    "    # Grade F: 0–49\n",
    "# Invalid marks: Outside the range 0–100.\n",
    "# Output: Display the grade or an error message for invalid marks.\n",
    "# Example Outputs:\n",
    "    # Marks: 85 → Grade: B\n",
    "    # Marks: 45 → Grade: F\n",
    "    # Marks: 105 → Invalid marks.\n",
    "mark=float(input(\"Enter your marks:\"))\n",
    "if( 0<=mark<=100):\n",
    "    if(90<=mark<=100):\n",
    "        print(f\"Marks:{mark}-> grade: A\")\n",
    "    elif(80<=mark<90):\n",
    "        print(f\"Marks:{mark}-> grade: B\")\n",
    "    elif(70<=mark<80):\n",
    "        print(f\"Marks:{mark}-> grade: C\")\n",
    "    elif(60<=mark<70):\n",
    "        print(f\"Marks:{mark}-> grade: D\")\n",
    "    elif(50<=mark<60):\n",
    "        print(f\"Marks:{mark}-> grade: E\")\n",
    "    elif(0<=mark<50):\n",
    "        print(f\"Marks:{mark}-> grade: F\")\n",
    "else:\n",
    "    print(\"Invalid marks\")"
   ]
  },
  {
   "cell_type": "code",
   "execution_count": 23,
   "id": "e89496fc-8b3b-4771-9343-d5444c2faa39",
   "metadata": {},
   "outputs": [
    {
     "name": "stdin",
     "output_type": "stream",
     "text": [
      "Enter your user namr: user1\n",
      "Enter your user password: pass@123\n"
     ]
    },
    {
     "name": "stdout",
     "output_type": "stream",
     "text": [
      "Authentication successful.\n"
     ]
    }
   ],
   "source": [
    "# 11.Task : Authentication System.\n",
    "# Write a javascript program that authenticates a user by checking their username and password. The program should compare the entered credentials with predefined valid credentials.\n",
    "# Predefined valid usernames and corresponding passwords\n",
    "    #  \tusername1 = \"user1\" \n",
    "    #  username1_password1 = \"pass@123\"\n",
    "# Instructions:\n",
    "# Input:\n",
    "    # Prompt the user to input their username and password.\n",
    "    # Processing:\n",
    "    # Check if the username and password match \n",
    "# Output:\n",
    "    # If both the username and password match the predefined valid credentials display \"Authentication successful.\"\n",
    "    # If either the username or the password does not match display \"Authentication failed.\"\n",
    "username1 = \"user1\" \n",
    "username1_password1 = \"pass@123\"\n",
    "name=str(input(\"Enter your user namr:\"))\n",
    "pswrd=str(input(\"Enter your user password:\"))\n",
    "if(name==username1 and pswrd==username1_password1):\n",
    "    print(\"Authentication successful.\")\n",
    "else:\n",
    "    print(\"Authentication successful.\")"
   ]
  },
  {
   "cell_type": "code",
   "execution_count": 27,
   "id": "9039e6f0-4047-4b48-a12b-11f4d5d6e602",
   "metadata": {},
   "outputs": [
    {
     "name": "stdin",
     "output_type": "stream",
     "text": [
      "Enter your Experience in years 18\n"
     ]
    },
    {
     "name": "stdout",
     "output_type": "stream",
     "text": [
      "Senior Employee with 18 years of experience.\n",
      "Their base salary is 80000\n",
      "Experience exceeds 15 years. Bonus added 5000.\n",
      "Salery is: 85000\n"
     ]
    }
   ],
   "source": [
    "# 12.Employee Salary Based on Experience.\n",
    "# You are building a system for a Human Resources (HR) department that calculates an employee's salary based on their years of experience.\n",
    "# The system assigns salary tiers based on the number of years an employee has been working. \n",
    "# It also offers bonuses for employees who have more than 15 years of experience.\n",
    "# Scenario Breakdown:\n",
    "# Context 1: Senior Employee\n",
    "    # An employee with 10 or more years of experience is classified as a Senior Employee. The base salary for such an employee is 80000.\n",
    "    # If the employee has more than 15 years of experience, they receive a bonus of 5000 to their salary.\n",
    "# Example:\n",
    "    #  An employee with 18 years of experience:\n",
    "    # They are classified as Senior Employees.\n",
    "    # Their base salary is 80000.\n",
    "    # Since they have more than 15 years of experience, they receive an additional 5000 bonus.\n",
    "    # The final salary is 85000.\n",
    "# Context 2: Mid-Level Employee\n",
    "    # Employees with 5 to 9 years of experience are classified as Mid-Level Employees.\n",
    "    # Their base salary is 50000 with no bonus.\n",
    "# Example:\n",
    "    #  An employee with 7 years of experience:\n",
    "    # They are classified as a Mid-Level Employee.\n",
    "    # Their base salary is 50000.\n",
    "    # Since they have fewer than 10 years of experience no bonus is added.\n",
    "    # The final salary is 50000.\n",
    "# Context 3: Junior Employee\n",
    "    # Employees with less than 5 years of experience are classified as Junior Employees.\n",
    "    # Their base salary is 30000 with no bonus.\n",
    "# Example:\n",
    "    #  An employee with 3 years of experience:\n",
    "    # They are classified as Junior Employees.\n",
    "    # Their base salary is 30000.\n",
    "    # No bonus is added.\n",
    "    # The final salary is 30000.\n",
    "# Output Examples:\n",
    "# \tSenior Employee with 18 years of experience:\n",
    "# \tEnter years of experience: 18\n",
    "# \tSenior employee\n",
    "# \tExperience exceeds 15 years. Bonus added.\n",
    "# \tSalary: 85000\n",
    "# \tMid-Level Employee with 7 years of experience:\n",
    "# \tEnter years of experience: 7\n",
    "# \tMid-level employee\n",
    "# \tSalary: 50000\n",
    "# \tJunior Employee with 3 years of experience:\n",
    "# \tEnter years of experience: 3\n",
    "# \tJunior employee\n",
    "# \tSalary: 30000\n",
    "exp=int(input(\"Enter your Experience in years\"))\n",
    "if( 0<=exp<=60):\n",
    "    if(exp>=10):\n",
    "        emply='Senior Employee'\n",
    "        sallery=80000\n",
    "        print(f\"Senior Employee with {exp} years of experience.\")\n",
    "        print(f\"Their base salary is {sallery}\")\n",
    "        if(exp>15):\n",
    "            bonus=5000\n",
    "            sallery=sallery+bonus\n",
    "            print(f\"Experience exceeds 15 years. Bonus added {bonus}.\")\n",
    "            print(f\"Salery is: {sallery}\")\n",
    "        else:\n",
    "            print(f\"Experience less than 15 years. No bonus added.\")\n",
    "            print(f\"Salery is: {sallery}\")\n",
    "    elif(5<=exp<=9):\n",
    "        emply='Mid-level Employee'\n",
    "        sallery=50000\n",
    "        print(f\"Mid-level Employee with {exp} years of experience.\")\n",
    "        print(f\"Their base salary is {sallery}\")\n",
    "        print(f\"No bonus added.\")\n",
    "        print(f\"Salery is: {sallery}\")\n",
    "    elif(exp<5):\n",
    "        emply='Junior Employee'\n",
    "        sallery=30000\n",
    "        print(f\"Junior Employee with {exp} years of experience.\")\n",
    "        print(f\"Their base salary is {sallery}\")\n",
    "        print(f\"No bonus added.\")\n",
    "        print(f\"Salery is: {sallery}\")\n",
    "else:\n",
    "    print(\"Invalid input\")"
   ]
  },
  {
   "cell_type": "code",
   "execution_count": 28,
   "id": "a1e3e92d-2d57-475e-9e09-1f2a7368b609",
   "metadata": {},
   "outputs": [
    {
     "name": "stdin",
     "output_type": "stream",
     "text": [
      "Enter the day count: 18\n"
     ]
    },
    {
     "name": "stdout",
     "output_type": "stream",
     "text": [
      "Calculated charge is 60\n"
     ]
    }
   ],
   "source": [
    "# 13. Library Charge Calculation\n",
    "# Problem Statement:\n",
    "#  Write a javascript program that calculates the library charge based on the number of days a book has been borrowed.\n",
    "# Charge Criteria:\n",
    "    # Up to 5 days: Rs. 2 per day\n",
    "    # 6 to 10 days: Rs. 3 per day\n",
    "    # 11 to 15 days: Rs. 4 per day\n",
    "    # More than 15 days: Rs. 5 per day\n",
    "# Instructions:\n",
    "    # Input: Prompt the user to enter the number of days the book has been borrowed.\n",
    "    # Processing: Calculate the charge based on the given criteria.\n",
    "    # Output: Display the calculated charge.\n",
    "day=int(input(\"Enter the day count:\"))\n",
    "if(day>0):\n",
    "    if(day<=5):\n",
    "        charge=day*2\n",
    "        print(f\"Calculated charge is {charge}\")\n",
    "    elif(6<=day<=10):\n",
    "        charge1=2*5\n",
    "        charge=(day-5)*3+charge1\n",
    "        print(f\"Calculated charge is {charge}\")\n",
    "    elif(11<=day<=15):\n",
    "        charge1=2*5\n",
    "        charge2=3*5\n",
    "        charge=(day-10)*4+charge1+charge2\n",
    "        print(f\"Calculated charge is {charge}\")\n",
    "    else:\n",
    "        charge1=2*5\n",
    "        charge2=3*5\n",
    "        charge3=4*5\n",
    "        charge=(day-15)*5+charge1+charge2+charge3\n",
    "        print(f\"Calculated charge is {charge}\")\n",
    "else:\n",
    "    print(\"Invalid Input\")"
   ]
  },
  {
   "cell_type": "code",
   "execution_count": 31,
   "id": "2563f884-f7b0-414b-88e3-a72b8e71d536",
   "metadata": {},
   "outputs": [
    {
     "name": "stdin",
     "output_type": "stream",
     "text": [
      "Enter the first nunber: 122\n",
      "Enter the second nunber: 100\n",
      "Enter the third nunber: 112\n"
     ]
    },
    {
     "name": "stdout",
     "output_type": "stream",
     "text": [
      " Given Numbers are 122, 100, and 112\n",
      " Reverse of the given numbers are 122, 112, and 100\n"
     ]
    }
   ],
   "source": [
    "# 14. Arranging Three Numbers in Descending Order\n",
    "# Task:\n",
    "#  Write a python program to arrange three numbers in descending order.\n",
    "# Input:\n",
    "#  Prompt the user to enter three numbers.\n",
    "# Processing:\n",
    "#  Sort the numbers in descending order.\n",
    "# Example:\n",
    "    # Enter first number: 3\n",
    "    # Enter second number: 1\n",
    "    # Enter third number: 2\n",
    "# Output:\n",
    "    # Numbers in Descending Order: 3, 2, 1\n",
    "num1= int(input(\"Enter the first nunber:\"))\n",
    "num2= int(input(\"Enter the second nunber:\"))\n",
    "num3= int(input(\"Enter the third nunber:\"))\n",
    "if(num1>0 and num2>0 and num3>0):\n",
    "    if(num2<num1>num3):\n",
    "        rev1=num1\n",
    "        if(num2>num3):\n",
    "            rev2, rev3=num2, num3\n",
    "            print(f\" Given Numbers are {num1}, {num2}, and {num3}\")\n",
    "            print(f\" Reverse of the given numbers are {rev1}, {rev2}, and {rev3}\")\n",
    "        else:\n",
    "            rev2, rev3=num3, num2\n",
    "            print(f\" Given Numbers are {num1}, {num2}, and {num3}\")\n",
    "            print(f\" Reverse of the given numbers are {rev1}, {rev2}, and {rev3}\")\n",
    "    elif(num1<num2>num3):\n",
    "        rev1=num2\n",
    "        if(num1>num3):\n",
    "            rev2, rev3=num1, num3\n",
    "            print(f\" Given Numbers are {num1}, {num2}, and {num3}\")\n",
    "            print(f\" Reverse of the given numbers are {rev1}, {rev2}, and {rev3}\")\n",
    "        else:\n",
    "            rev2, rev3=num3, num1\n",
    "            print(f\" Given Numbers are {num1}, {num2}, and {num3}\")\n",
    "            print(f\" Reverse of the given numbers are {rev1}, {rev2}, and {rev3}\")\n",
    "    else:\n",
    "        rev1=num3\n",
    "        if(num1>num2):\n",
    "            rev2, rev3=num1, num2\n",
    "            print(f\" Given Numbers are {num1}, {num2}, and {num3}\")\n",
    "            print(f\" Reverse of the given numbers are {rev1}, {rev2}, and {rev3}\")\n",
    "        else:\n",
    "            rev2, rev3=num2, num1\n",
    "            print(f\" Given Numbers are {num1}, {num2}, and {num3}\")\n",
    "            print(f\" Reverse of the given numbers are {rev1}, {rev2}, and {rev3}\")\n",
    "else:\n",
    "    print(\"Invalid Input\")"
   ]
  },
  {
   "cell_type": "code",
   "execution_count": 33,
   "id": "0705c89c-ef48-4c30-b7cb-436514d0174e",
   "metadata": {},
   "outputs": [
    {
     "name": "stdin",
     "output_type": "stream",
     "text": [
      "Enter the price: 2300000\n"
     ]
    },
    {
     "name": "stdout",
     "output_type": "stream",
     "text": [
      "Car Brand should be Mercedes and tax will be 115000.0\n"
     ]
    }
   ],
   "source": [
    "# 15. Tax Calculation for Car Purchase\n",
    "# Write a program to calculate the tax on a car purchase based on the car brand and its price.\n",
    "    # Mahindra: 5% tax for prices between 7L (7 lakh) and 10L.\n",
    "    # Audi: 10% tax for prices between 10L and 15L.\n",
    "    # Jaguar: 25% tax for prices between 15L and 20L.\n",
    "    # Mercedes: 30% tax for prices between 20L and 25L.\n",
    "# Input: The car brand and price.\n",
    "# Output: The calculated tax on the purchase.\n",
    "price=float(input(\"Enter the price:\"))\n",
    "if(700000<=price<1000000):\n",
    "    tax=(price*5)/100\n",
    "    print(f\"Car Brand should be Mahindra and tax will be {tax}\")\n",
    "elif(1000000<=price<1500000):\n",
    "    tax=(price*5)/100\n",
    "    print(f\"Car Brand should be Audi and tax will be {tax}\")\n",
    "elif(1500000<=price<2000000):\n",
    "    tax=(price*5)/100\n",
    "    print(f\"Car Brand should be Jaguar and tax will be {tax}\")\n",
    "elif(2000000<=price<=2500000):\n",
    "    tax=(price*5)/100\n",
    "    print(f\"Car Brand should be Mercedes and tax will be {tax}\")\n",
    "else:\n",
    "    print(\"Invalid Input\")"
   ]
  },
  {
   "cell_type": "code",
   "execution_count": 34,
   "id": "2cee145d-1f85-494e-af94-647245cc7744",
   "metadata": {},
   "outputs": [
    {
     "name": "stdin",
     "output_type": "stream",
     "text": [
      "Enter the first nunber: 102\n",
      "Enter the second nunber: 256\n",
      "Enter the third nunber: 566\n"
     ]
    },
    {
     "name": "stdout",
     "output_type": "stream",
     "text": [
      "Middle number is 256\n"
     ]
    }
   ],
   "source": [
    "# 16.Finding the Middle Number\n",
    "# Task: Write a program to determine the middle number among three inputs.\n",
    "# Input: Prompt the user to enter three numbers.\n",
    "# Processing: Identify the middle number, which is neither the largest nor the smallest.\n",
    "# Output: Display the middle number.\n",
    "num1= int(input(\"Enter the first nunber:\"))\n",
    "num2= int(input(\"Enter the second nunber:\"))\n",
    "num3= int(input(\"Enter the third nunber:\"))\n",
    "if(num1>0 and num2>0 and num3>0):\n",
    "    if(num2<num1>num3):\n",
    "        if(num2>num3):\n",
    "           print(f\"Middle number is {num2}\")\n",
    "        else:\n",
    "            print(f\"Middle number is {num3}\")\n",
    "    elif(num1<num2>num3):\n",
    "        if(num1>num3):\n",
    "           print(f\"Middle number is {num1}\")\n",
    "        else:\n",
    "            print(f\"Middle number is {num3}\")\n",
    "    else:\n",
    "        if(num1>num2):\n",
    "           print(f\"Middle number is {num1}\")\n",
    "        else:\n",
    "            print(f\"Middle number is {num2}\")\n",
    "else:\n",
    "    print(\"Invalid Input\")"
   ]
  },
  {
   "cell_type": "code",
   "execution_count": 17,
   "id": "4de02078-c1ce-4079-a3b3-ee963a94de92",
   "metadata": {},
   "outputs": [
    {
     "name": "stdin",
     "output_type": "stream",
     "text": [
      "Enter the first nunber: 110\n",
      "Enter the second nunber: 122\n",
      "Enter the third nunber: 100\n"
     ]
    },
    {
     "name": "stdout",
     "output_type": "stream",
     "text": [
      "Greatest number is 122\n"
     ]
    }
   ],
   "source": [
    "# 17.Find the greatest number.\n",
    "# Task: Write a program to find greatest number from three number\n",
    "# Input: Prompt the user to enter three numbers.\n",
    "# Output: Display the greatest number.\n",
    "num1= int(input(\"Enter the first nunber:\"))\n",
    "num2= int(input(\"Enter the second nunber:\"))\n",
    "num3= int(input(\"Enter the third nunber:\"))\n",
    "if(num1>0 and num2>0 and num3>0):\n",
    "    if(num2<num1>num3):\n",
    "        print(f\"Greatest number is {num1}\")\n",
    "    elif(num1<num2>num3):\n",
    "        print(f\"Greatest number is {num2}\")\n",
    "    else:\n",
    "        print(f\"Greatest number is {num3}\")\n",
    "else:\n",
    "    print(\"Invalid Input\")"
   ]
  },
  {
   "cell_type": "code",
   "execution_count": 36,
   "id": "9ffe9544-22e7-481e-bee6-d614e5dbafc0",
   "metadata": {},
   "outputs": [
    {
     "name": "stdin",
     "output_type": "stream",
     "text": [
      "Enter the attendence percentage: 85.65\n"
     ]
    },
    {
     "name": "stdout",
     "output_type": "stream",
     "text": [
      "Eligible to sit in the exam\n"
     ]
    }
   ],
   "source": [
    "# 19.Calculate Class Attendance Percentage\n",
    "# Task: Write a program to calculate the percentage of classes attended by a student and determine their eligibility to sit in the exam.\n",
    "# Conditions:\n",
    "# Attendance percentage < 75%: Not eligible to sit in the exam.\n",
    "# Attendance percentage ≥ 75%: Eligible to sit in the exam.\n",
    "# Output: Display the attendance percentage and eligibility status.\n",
    "att_percentage=float(input(\"Enter the attendence percentage (0-100):\"))\n",
    "if(0<att_percentage<=100):\n",
    "    if(att_percentage>=75):\n",
    "        print(\"Eligible to sit in the exam\")\n",
    "    else:\n",
    "        print(\"Not eligible to sit in the exam\")\n",
    "else:\n",
    "    print(\"Invalid Input\")"
   ]
  },
  {
   "cell_type": "code",
   "execution_count": 42,
   "id": "1873105c-7211-41dd-a02a-e049d1b9ffa9",
   "metadata": {},
   "outputs": [
    {
     "name": "stdin",
     "output_type": "stream",
     "text": [
      "Enter Your age: 22\n",
      "Are you Graduate ( enter 1 if yes, 0 for no): 1\n",
      "Are you Bhartiya ( enter 1 if yes, 0 for no): 0\n"
     ]
    },
    {
     "name": "stdout",
     "output_type": "stream",
     "text": [
      "Sorry🙏, This is only for Bhartiya candidate\n"
     ]
    }
   ],
   "source": [
    "# 21.UPSC Selection Process\n",
    "# Task: Simulate the UPSC selection process with the following steps:\n",
    "# Eligibility Check\n",
    "# Criteria:\n",
    "    # Age: 21–32 years.\n",
    "    # Graduate status: Must be a graduate.\n",
    "    # Nationality: Must be \"Indian\".\n",
    "# Output:\n",
    "    # If eligible, proceed to Prelims.\n",
    "    # If ineligible, display the reason for ineligibility.\n",
    "    # Prelims Exam\n",
    "# Processing: Check if the candidate’s score ≥ cut-off.\n",
    "# Output:\n",
    "    # If passed, proceed to Mains.\n",
    "    # If failed, display \"You failed the Prelims.\"\n",
    "    # Mains Exam\n",
    "    # Processing: Check if the candidate’s score ≥ cut-off.\n",
    "# Output:\n",
    "    # If passed, proceed to Interview.\n",
    "    # If failed, display \"You failed the Mains.\"\n",
    "    # Interview\n",
    "    # Processing: Check if the candidate’s score ≥ cut-off.\n",
    "# Output:\n",
    "    # If passed, display \"Congratulations! You have cleared the UPSC.\"\n",
    "    # If failed, display \"You failed the Interview.\"\n",
    "    # Final Output: Use nested conditional statements to simulate the entire process.\n",
    "age=float(input(\"Enter Your age:\"))\n",
    "cutt_of=92.5\n",
    "cutt_ofm=95\n",
    "cutt_ofi=92\n",
    "if(21<=age<=32):\n",
    "    graduate=int(input(\"Are you Graduate ( enter 1 if yes, 0 for no):\"))\n",
    "    if(graduate==1 ):\n",
    "        nationality=int(input(\"Are you Bhartiya ( enter 1 if yes, 0 for no):\"))\n",
    "        if(nationality==1 ):\n",
    "            print(\"Hey!,you can processed to Prelims\")\n",
    "            score=float(input(\"Enter the score:\"))\n",
    "            if(score>=cutt_of):\n",
    "                print(\"Hey!, you cleared Prelims,can proceed for Main's\")\n",
    "                main_score=float(input(\"Enter the Main's Score\"))\n",
    "                if(main_score>=cutt_ofm):\n",
    "                    print(\"Hey!, you cleared Main's proceed to Interview\")\n",
    "                    inter_score=float(input(\"Enter the Interview Score\"))\n",
    "                    if(inter_score>=cutt_ofi):\n",
    "                        print(\"Congratulations! You have cleared the UPSC.\")\n",
    "                    else:\n",
    "                        print(\"You failed the Interview.\")\n",
    "                else:\n",
    "                    print(\"You failed the Mains.\")\n",
    "            else:\n",
    "                print(\"You failed the Prelims.\")\n",
    "            \n",
    "        else:\n",
    "            print(\"Sorry🙏, This is only for Bhartiya candidate\")\n",
    "    else:\n",
    "        print(\"Sorry🙏, you are not eligible because of not a graduate\")\n",
    "else:\n",
    "    print(\"Sorry🙏, your age is not in range\")"
   ]
  },
  {
   "cell_type": "code",
   "execution_count": null,
   "id": "8d2bc321-c586-487f-afc7-7afee40f011f",
   "metadata": {},
   "outputs": [
    {
     "name": "stdout",
     "output_type": "stream",
     "text": [
      " Display a menu with three choices for the user:\n",
      "1-Login with Phone\n",
      "2-Login with Email\n",
      "3-Exit the system\n"
     ]
    }
   ],
   "source": [
    "# 22. Menu-Driven Login System\n",
    "# Create the Menu:\n",
    "# Display a menu with three choices for the user:\n",
    "# Login with Phone\n",
    "# Login with Email\n",
    "# Exit the system\n",
    "# Predefined Credentials:\n",
    "    # Phone number: \"1234567890\"\n",
    "    # OTP: \"1234\"\n",
    "    # Email: \"user@example.com\"\n",
    "    # Password: \"password123”\n",
    "# Login Functionality:\n",
    "# Option 1 (Login with Phone):\n",
    "    # Prompt the user to enter their phone number and OTP.\n",
    "    # Compare the input with a predefined phone number and OTP.\n",
    "    # Display success if both match or an error message if they don’t.\n",
    "# Option 2 (Login with Email):\n",
    "    # Prompt the user to enter their email and password.\n",
    "    # Compare the input with predefined email and password.\n",
    "    # Display success if both match or an error message if they don’t.\n",
    "# Option 3 (Exit):\n",
    "    # Display an exit message and terminate the program.\n",
    "    # Invalid Input:\n",
    "    # Handle invalid user choices and ask the user to select a valid option.\n",
    "# Output:\n",
    "    # If the user enters a valid phone number and OTP, display: \"Login successful with phone!\"\n",
    "    # If the user enters valid email and password, display: \"Login successful with email!\"\n",
    "    # If the user selects the exit option, display: \"Exiting the program. Have a nice day!\"\n",
    "    # If the user enters invalid credentials or an invalid choice, display appropriate error messages.\n",
    "phone_number= \"1234567890\"\n",
    "otp= \"1234\"\n",
    "email= \"user@example.com\"\n",
    "password= \"password123\"\n",
    "show=\"\"\" Display a menu with three choices for the user:\n",
    "1-Login with Phone\n",
    "2-Login with Email\n",
    "3-Exit the system\"\"\"\n",
    "print(show)\n",
    "select1=int(input(\"Enter the choice number\"))\n",
    "if(select1==1):\n",
    "    num=str(input(\"Enter your phone number\"))\n",
    "    otp_u=str(input(\"Enter OTP\"))\n",
    "    if(num==phone_number and otp_u==otp):\n",
    "        print(\"Login successful with phone!\")\n",
    "    else:\n",
    "        print(\"Error\")\n",
    "elif(select1==2):\n",
    "    email=str(input(\"Enter your email\"))\n",
    "    pswrd=str(input(\"Enter password\"))\n",
    "    if(email==email_id and pswrd==password):\n",
    "        print(\"Login successful with email!\")\n",
    "    else:\n",
    "        print(\"Error\")\n",
    "elif(select1==3):\n",
    "    msg=str(input(\"Enter exit message\"))\n",
    "    print(mag)\n",
    "else:\n",
    "    print(\"Invalid Input\")\n",
    "    \n",
    "    "
   ]
  },
  {
   "cell_type": "code",
   "execution_count": 16,
   "id": "7db93f35-75ef-48e8-a877-771a6ed6bfc3",
   "metadata": {},
   "outputs": [
    {
     "name": "stdout",
     "output_type": "stream",
     "text": [
      "Do you want to start the Game?\n",
      "  1- Yes          2- No\n"
     ]
    },
    {
     "name": "stdin",
     "output_type": "stream",
     "text": [
      "Enter your choice 1\n"
     ]
    },
    {
     "name": "stdout",
     "output_type": "stream",
     "text": [
      "Which one is best joke in the given?\n",
      "        1- Pakistan is a peacefull country😆                 2- Islam spread peace🤣\n",
      "        3- Americe secures democracy in the countries😂      4- China help countries to improve in their economy🫢\n",
      "        5- Skip\n"
     ]
    },
    {
     "name": "stdin",
     "output_type": "stream",
     "text": [
      "Enter your answer  5\n"
     ]
    },
    {
     "name": "stdout",
     "output_type": "stream",
     "text": [
      "Who is the Md Yunus?\n",
      "        1- Peacemeker                    2- Bangladeshi PM\n",
      "        3- Worthy Noble Holder           4- Puppet \n",
      "        5- Skip\n"
     ]
    },
    {
     "name": "stdin",
     "output_type": "stream",
     "text": [
      "Enter your answer  1\n"
     ]
    },
    {
     "name": "stdout",
     "output_type": "stream",
     "text": [
      "Which country is most loyal to INDIA?\n",
      "        1- America                2- China\n",
      "        3- Russia                 4- France\n",
      "        5- Skip\n"
     ]
    },
    {
     "name": "stdin",
     "output_type": "stream",
     "text": [
      "Enter your answer  4\n"
     ]
    },
    {
     "name": "stdout",
     "output_type": "stream",
     "text": [
      "Which country has largest Army?\n",
      "        1- Pakistan                2- China\n",
      "        3- Americe                 4- INDIA\n",
      "        5- Skip\n"
     ]
    },
    {
     "name": "stdin",
     "output_type": "stream",
     "text": [
      "Enter your answer  2\n"
     ]
    },
    {
     "name": "stdout",
     "output_type": "stream",
     "text": [
      "*Pakistan have 20Cr+ Army(zihadi always ready to blast)\n",
      "Why are you doing Devops?\n",
      "        1- To improve my commmunication                    2- For Money\n",
      "        3- To improve my Skill                             4- Bhaiya ne bola hai\n",
      "        5- Skip\n"
     ]
    },
    {
     "name": "stdin",
     "output_type": "stream",
     "text": [
      "Enter your answer  4\n"
     ]
    },
    {
     "name": "stdout",
     "output_type": "stream",
     "text": [
      "Total score accumulated from correct answers is 0\n",
      "Number of correct answers is 0\n",
      "Number of skipped questions is 1\n",
      "Number of wrong answers is 4\n"
     ]
    }
   ],
   "source": [
    "# 23.Create Your Own KBC Game\n",
    "# Design and implement a quiz game inspired by the popular Kaun Banega Crorepati (KBC) game show. The aim of this assignment is to test the user's knowledge through a series of multiple-choice questions, track their score, and display statistics at the end of the game. The game also provides the flexibility to skip any question.\n",
    "# Instructions:\n",
    "# Game Structure:\n",
    "    # The game will consist of 5 multiple-choice questions.\n",
    "    # The user will be asked a question with 4 options (A, B, C, D).\n",
    "    # The user can choose to skip any question they do not want to answer.\n",
    "# Scoring System:\n",
    "# Points will be awarded for correct answers as follows:\n",
    "    # Question 1 → 1000 points\n",
    "    # Question 2 → 2000 points\n",
    "    # Question 3 → 3000 points\n",
    "    # Question 4 → 5000 points\n",
    "    # Question 5 → 10000 points\n",
    "    # For incorrect answers, no points will be awarded.\n",
    "    # For skipped questions, no points will be awarded, but the game will continue.\n",
    "# End of Game Statistics:\n",
    "    # At the end of the game, the following statistics will be displayed:\n",
    "    # Total score accumulated from correct answers.\n",
    "    # Number of correct answers provided by the user.\n",
    "    # Number of skipped questions.\n",
    "    # Number of wrong answers\n",
    "# User Experience:\n",
    "    # At the beginning of the game, ask the user whether they would like to start or not the game.\n",
    "    # Provide the option for the user to skip any question at any point..\n",
    "# Game Ending:\n",
    "    # The game will end when all the questions have been answered or skipped. The user should receive their total score and a summary of their performance.\n",
    "score=0\n",
    "correct=0\n",
    "skip=0\n",
    "wrong=0\n",
    "msg=\"\"\"Do you want to start the Game?\n",
    "  1- Yes          2- No\"\"\"\n",
    "print(msg)\n",
    "ans=int(input(\"Enter your choice\"))\n",
    "if(ans==1):\n",
    "    que1=\"\"\"Which one is best joke in the given?\n",
    "        1- Pakistan is a peacefull country😆                 2- Islam spread peace🤣\n",
    "        3- Americe secures democracy in the countries😂      4- China help countries to improve in their economy🫢\n",
    "        5- Skip\"\"\"\n",
    "    que2=\"\"\"Who is the Md Yunus?\n",
    "        1- Peacemeker                    2- Bangladeshi PM\n",
    "        3- Worthy Noble Holder           4- Puppet \n",
    "        5- Skip\"\"\"\n",
    "    que3=\"\"\"Which country is most loyal to INDIA?\n",
    "        1- America                2- China\n",
    "        3- Russia                 4- France\n",
    "        5- Skip\"\"\"\n",
    "    que4=\"\"\"Which country has largest Army?\n",
    "        1- Pakistan                2- China\n",
    "        3- Americe                 4- INDIA\n",
    "        5- Skip\"\"\"\n",
    "    que5=\"\"\"Why are you doing Devops?\n",
    "        1- To improve my commmunication                    2- For Money\n",
    "        3- To improve my Skill                             4- Bhaiya ne bola hai\n",
    "        5- Skip\"\"\"\n",
    "    print(que1)\n",
    "    ans1=int(input(\"Enter your answer \")) \n",
    "    if (ans1==2):\n",
    "        score+=1000\n",
    "        correct+=1\n",
    "    elif(ans1==5):\n",
    "        skip+=1\n",
    "    elif(ans1==1 or ans1==3 or ans1==4):\n",
    "        wrong+=1\n",
    "    else:\n",
    "        print(\"Invalid Input\")\n",
    "    print(que2)\n",
    "    ans2=int(input(\"Enter your answer \"))\n",
    "    if(ans2==4):\n",
    "        score+=2000\n",
    "        correct+=1\n",
    "    elif(ans2==5):\n",
    "        skip+=1\n",
    "    elif(ans2==2 or ans2==3 or ans2==1):\n",
    "        wrong+=1\n",
    "    else:\n",
    "        print(\"Invalid Input\")\n",
    "    print(que3)\n",
    "    ans3=int(input(\"Enter your answer \"))\n",
    "    if(ans3==3):\n",
    "        score+=3000\n",
    "        correct+=1\n",
    "    elif(ans3==5):\n",
    "        skip+=1\n",
    "    elif(ans3==2 or ans3==4 or ans3==1):\n",
    "        wrong+=1\n",
    "    else:\n",
    "        print(\"Invalid Input\")\n",
    "    print(que4)\n",
    "    ans4=int(input(\"Enter your answer \"))\n",
    "    if(ans4==1):\n",
    "        score+=5000\n",
    "        correct+=1\n",
    "        print(\"*Pakistan have 20Cr+ Army(zihadi always ready to blast)\")\n",
    "    elif(ans4==5):\n",
    "        skip+=1\n",
    "    elif(ans4==2 or ans4==3 or ans4==4):\n",
    "        wrong+=1\n",
    "        print(\"*Pakistan have 20Cr+ Army(zihadi always ready to blast)\")\n",
    "    else:\n",
    "        print(\"Invalid Input\")\n",
    "    print(que5)\n",
    "    ans5=int(input(\"Enter your answer \"))\n",
    "    if(ans5==2):\n",
    "        score+=10000\n",
    "        correct+=1\n",
    "    elif(ans5==5):\n",
    "        skip+=1\n",
    "    elif(ans5==1 or ans5==3 or ans5==4):\n",
    "        wrong+=1\n",
    "    else:\n",
    "        print(\"Invalid Input\")\n",
    "    print(f\"Total score accumulated from correct answers is {score}\")\n",
    "    print(f\"Number of correct answers is {correct}\")\n",
    "    print(f\"Number of skipped questions is {skip}\")\n",
    "    print(f\"Number of wrong answers is {wrong}\")\n",
    "elif(ans==2):\n",
    "    print(\"Thank You,Hope you will try onece!\")\n",
    "else:\n",
    "    print(\"Invalid Input\")"
   ]
  },
  {
   "cell_type": "code",
   "execution_count": null,
   "id": "5d668709-7846-4737-a25e-b1db7a61ab1b",
   "metadata": {},
   "outputs": [
    {
     "name": "stdin",
     "output_type": "stream",
     "text": [
      "Enter your user namr: user1\n"
     ]
    }
   ],
   "source": [
    "# 18.Authentication System\n",
    "# Task: Write a program to authenticate a user by validating their username and password.\n",
    "# Predefined Credentials:\n",
    "    # Username: user1\n",
    "    # Password: pass@123\n",
    "# Input: Prompt the user to input their username and password.\n",
    "# Output:\n",
    "    # If the credentials match, display \"Authentication successful.\"\n",
    "    # If they do not match, display \"Authentication failed.\"\n",
    "username1 = \"user1\" \n",
    "username1_password1 = \"pass@123\"\n",
    "name=str(input(\"Enter your user namr:\"))\n",
    "pswrd=str(input(\"Enter your user password:\"))\n",
    "if(name==username1 and pswrd==username1_password1):\n",
    "    print(\"Authentication successful.\")\n",
    "else:\n",
    "    print(\"Authentication successful.\")"
   ]
  },
  {
   "cell_type": "code",
   "execution_count": null,
   "id": "fafaa053-83ad-4d08-86c4-38573feb5f00",
   "metadata": {},
   "outputs": [],
   "source": []
  }
 ],
 "metadata": {
  "kernelspec": {
   "display_name": "Python 3 (ipykernel)",
   "language": "python",
   "name": "python3"
  },
  "language_info": {
   "codemirror_mode": {
    "name": "ipython",
    "version": 3
   },
   "file_extension": ".py",
   "mimetype": "text/x-python",
   "name": "python",
   "nbconvert_exporter": "python",
   "pygments_lexer": "ipython3",
   "version": "3.13.3"
  }
 },
 "nbformat": 4,
 "nbformat_minor": 5
}
