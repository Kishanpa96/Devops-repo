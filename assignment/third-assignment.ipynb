{
 "cells": [
  {
   "cell_type": "code",
   "execution_count": 46,
   "id": "35c52f5b-f8f0-40ed-9584-1c65867a42e8",
   "metadata": {},
   "outputs": [
    {
     "name": "stdin",
     "output_type": "stream",
     "text": [
      "Enter the number of day 5\n"
     ]
    },
    {
     "name": "stdout",
     "output_type": "stream",
     "text": [
      "Day 1: Balance = 100, Previous Day Balance = 0\n",
      "Day 2: Balance = 200, Previous Day Balance = 100\n",
      "Day 3: Balance = 300, Previous Day Balance = 200\n",
      "Day 4: Balance = 400, Previous Day Balance = 300\n",
      "Day 5: Balance = 500, Previous Day Balance = 400\n",
      "Total Balanc is 500\n"
     ]
    }
   ],
   "source": [
    "\n",
    "# 42.You are managing a simple banking system that tracks the balance at the end of each day over 10 days. Each day, the balance increases by 100 units starting from 100 on day 1, 200 on day 2, and so on. You want to print the current day’s balance along with the previous day’s balance. For day 1, the previous day’s balance is 0.\n",
    "# Sample output:\n",
    "# Day 1: Balance = 100, Previous Day Balance = 0\n",
    "# Day 2: Balance = 200, Previous Day Balance = 100\n",
    "# Day 3: Balance = 300, Previous Day Balance = 200\n",
    "# ...\n",
    "# Day 10: Balance = 1000, Previous Day Balance = 900\n",
    "day=int(input(\"Enter the number of day\"))\n",
    "a=0\n",
    "count=0\n",
    "for i in range(1,day+1):\n",
    "    a+=100\n",
    "    count+=1\n",
    "    print(f\"Day {count}: Balance = {a}, Previous Day Balance = {a-100}\")\n",
    "print(f\"Total Balanc is {a}\")"
   ]
  },
  {
   "cell_type": "code",
   "execution_count": 2,
   "id": "6f1c45c0-07c3-47c1-8455-0f551bf3460d",
   "metadata": {},
   "outputs": [
    {
     "name": "stdout",
     "output_type": "stream",
     "text": [
      "Even Number: 0\n",
      "Odd Number: 1\n",
      "Even Number: 2\n",
      "Odd Number: 3\n",
      "Even Number: 4\n",
      "Odd Number: 5\n",
      "Even Number: 6\n",
      "Odd Number: 7\n",
      "Even Number: 8\n",
      "Odd Number: 9\n",
      "Even Number: 10\n",
      "Odd Number: 11\n",
      "Even Number: 12\n",
      "Odd Number: 13\n",
      "Even Number: 14\n",
      "Odd Number: 15\n",
      "Even Number: 16\n",
      "Odd Number: 17\n",
      "Even Number: 18\n",
      "Odd Number: 19\n"
     ]
    }
   ],
   "source": [
    "#1- Write a Python program to print all odd and even numbers from 1 to 20.\n",
    "for i in range (20):\n",
    "    if(i%2==0):\n",
    "        print(f\"Even Number: {i}\")\n",
    "    else:\n",
    "        print(f\"Odd Number: {i}\")\n",
    "        "
   ]
  },
  {
   "cell_type": "code",
   "execution_count": 4,
   "id": "8008c3a8-820d-40d9-ab42-b8907d5eee8a",
   "metadata": {},
   "outputs": [
    {
     "name": "stdin",
     "output_type": "stream",
     "text": [
      "Enter the number 12\n"
     ]
    },
    {
     "name": "stdout",
     "output_type": "stream",
     "text": [
      "1X12 =12\n",
      "2X12 =24\n",
      "3X12 =36\n",
      "4X12 =48\n",
      "5X12 =60\n",
      "6X12 =72\n",
      "7X12 =84\n",
      "8X12 =96\n",
      "9X12 =108\n",
      "10X12 =120\n",
      "11X12 =132\n"
     ]
    }
   ],
   "source": [
    "#2- Write a Python program to generate all multiples of 12.\n",
    "num=int(input(\"Enter the number\"))\n",
    "for i in range(1,num):\n",
    "    print(f\"{i}X12 ={i*12}\")"
   ]
  },
  {
   "cell_type": "code",
   "execution_count": 5,
   "id": "89236423-ef44-4b0a-86bc-278c6f4f2956",
   "metadata": {},
   "outputs": [
    {
     "name": "stdin",
     "output_type": "stream",
     "text": [
      "Enter the number 12\n"
     ]
    },
    {
     "name": "stdout",
     "output_type": "stream",
     "text": [
      "1X12 =12\n",
      "2X12 =24\n",
      "3X12 =36\n",
      "4X12 =48\n",
      "5X12 =60\n",
      "6X12 =72\n",
      "7X12 =84\n",
      "8X12 =96\n",
      "9X12 =108\n",
      "10X12 =120\n"
     ]
    }
   ],
   "source": [
    "#3- Write a Python program to generate a table of a number provided by the user.\n",
    "num=int(input(\"Enter the number\"))\n",
    "for i in range(1,11):\n",
    "    print(f\"{i}X{num} ={i*num}\")"
   ]
  },
  {
   "cell_type": "code",
   "execution_count": 16,
   "id": "b2dcea92-ef43-416c-83c5-1d2342748dc0",
   "metadata": {},
   "outputs": [
    {
     "name": "stdin",
     "output_type": "stream",
     "text": [
      "Enter the number 5\n"
     ]
    },
    {
     "name": "stdout",
     "output_type": "stream",
     "text": [
      "5 is a prime number\n",
      "5 is a prime number\n",
      "5 is a prime number\n"
     ]
    }
   ],
   "source": [
    "#4- Write a Python program to check if a number provided by the user is prime or not.\n",
    "num=int(input(\"Enter the number\"))\n",
    "if(num==1 or num==2):\n",
    "    print(f\"{num} is a prime number\")\n",
    "else:\n",
    "    for i in range(2,num):\n",
    "        if(num%i==0):\n",
    "            print(f\"{num} is not a prime number\")\n",
    "            break\n",
    "        else:\n",
    "            print(f\"{num} is a prime number\")"
   ]
  },
  {
   "cell_type": "code",
   "execution_count": 22,
   "id": "b276103e-0215-4da4-a2b3-2fbed85a3ee8",
   "metadata": {},
   "outputs": [
    {
     "name": "stdin",
     "output_type": "stream",
     "text": [
      "Enter the starting number 12\n",
      "Enter the ending number 16\n"
     ]
    },
    {
     "name": "stdout",
     "output_type": "stream",
     "text": [
      "Sum of the numbers is 42\n"
     ]
    }
   ],
   "source": [
    "#5- Write a Python program to calculate the sum of numbers between a starting and ending point provided by the user.\n",
    "num1=int(input(\"Enter the starting number\"))\n",
    "num2=int(input(\"Enter the ending number\"))\n",
    "num=0\n",
    "if(num2>num1):\n",
    "    for i in range(num1+1,num2):\n",
    "        num+=i\n",
    "    print(f\"Sum of the numbers is {num}\")"
   ]
  },
  {
   "cell_type": "code",
   "execution_count": 24,
   "id": "5d26db17-5792-412d-838a-3b35c323dec9",
   "metadata": {},
   "outputs": [
    {
     "name": "stdin",
     "output_type": "stream",
     "text": [
      "Enter the starting number 4\n",
      "Enter the ending number 8\n"
     ]
    },
    {
     "name": "stdout",
     "output_type": "stream",
     "text": [
      "Product of the numbers is 210\n"
     ]
    }
   ],
   "source": [
    "#6- Write a Python program to calculate the product of numbers between a starting and ending point provided by the user.\n",
    "num1=int(input(\"Enter the starting number\"))\n",
    "num2=int(input(\"Enter the ending number\"))\n",
    "num=1\n",
    "if(num2>num1):\n",
    "    for i in range(num1+1,num2):\n",
    "        num*=i\n",
    "    print(f\"Product of the numbers is {num}\")"
   ]
  },
  {
   "cell_type": "code",
   "execution_count": 31,
   "id": "efed4b09-34a4-43de-b122-54d4c2c6f19b",
   "metadata": {},
   "outputs": [
    {
     "name": "stdin",
     "output_type": "stream",
     "text": [
      "Enter the starting number 5\n"
     ]
    },
    {
     "name": "stdout",
     "output_type": "stream",
     "text": [
      "0 1 1\n",
      "2 3 5 8 13 "
     ]
    }
   ],
   "source": [
    "#7- Write a Python program to generate the Fibonacci sequence up to a specified number of terms.\n",
    "num1=int(input(\"Enter the starting number\"))\n",
    "num2=0\n",
    "num=1\n",
    "fab=num+num2\n",
    "print(num2, num, fab)\n",
    "for i in range(num1):\n",
    "    num2=num\n",
    "    num=fab\n",
    "    fab=num2+num\n",
    "    print(fab, end=\" \")\n",
    "    "
   ]
  },
  {
   "cell_type": "code",
   "execution_count": 32,
   "id": "d04b2f57-d5cd-4fe5-8059-9456e508cfe6",
   "metadata": {},
   "outputs": [
    {
     "name": "stdin",
     "output_type": "stream",
     "text": [
      "Enter the number 5\n"
     ]
    },
    {
     "name": "stdout",
     "output_type": "stream",
     "text": [
      " Factorial of 5 is 120\n"
     ]
    }
   ],
   "source": [
    "#8- Write a Python program to calculate the factorial of a number provided by the user.\n",
    "num=int(input(\"Enter the number\"))\n",
    "fact=1\n",
    "for i in range(1,num+1):\n",
    "    fact*=i\n",
    "print(f\" Factorial of {num} is {fact}\")\n",
    "    "
   ]
  },
  {
   "cell_type": "code",
   "execution_count": 34,
   "id": "2bbe1ab1-4ca4-4728-8a09-3598099ea138",
   "metadata": {},
   "outputs": [
    {
     "name": "stdout",
     "output_type": "stream",
     "text": [
      "Greatest character: y\n"
     ]
    }
   ],
   "source": [
    "#9- Write a Python program to find the greatest character from the string \"python\".\n",
    "x=\"python\"\n",
    "greatest_char = max(x)\n",
    "print(\"Greatest character:\", greatest_char)\n",
    "    "
   ]
  },
  {
   "cell_type": "code",
   "execution_count": 61,
   "id": "60aad920-e142-4cea-97b2-333831f6e3fa",
   "metadata": {},
   "outputs": [
    {
     "name": "stdout",
     "output_type": "stream",
     "text": [
      "Greatest character is y\n"
     ]
    }
   ],
   "source": [
    "#9- Write a Python program to find the greatest character from the string \"python\".\n",
    "# using iteration\n",
    "x=\"python\"\n",
    "greatest=x[0]\n",
    "for e in x:\n",
    "    if e>greatest:\n",
    "        greatest=e\n",
    "print(f\"Greatest character is {greatest}\")\n",
    "    "
   ]
  },
  {
   "cell_type": "code",
   "execution_count": 38,
   "id": "60fb6d7d-6866-4522-94ab-1d36b8e4c2b7",
   "metadata": {},
   "outputs": [
    {
     "name": "stdout",
     "output_type": "stream",
     "text": [
      "D\n",
      "r\n",
      "e\n",
      "a\n",
      "e\n",
      "r\n",
      " \n",
      "n\n",
      "f\n",
      "o\n",
      "t\n",
      "e\n",
      "c\n",
      "h\n"
     ]
    }
   ],
   "source": [
    "#10- Write a Python program to display all letters except 'm' and 'i' from the string \"Dreamer infotech\".\n",
    "x=\"Dreamer infotech\"\n",
    "for e in x:\n",
    "    if(e==\"m\" or e==\"i\"):\n",
    "        continue\n",
    "    print(e)\n",
    "        "
   ]
  },
  {
   "cell_type": "code",
   "execution_count": 43,
   "id": "3da6f4fa-cea4-43a5-8166-b060bbef6aab",
   "metadata": {},
   "outputs": [
    {
     "name": "stdin",
     "output_type": "stream",
     "text": [
      "Enter the word wording is\n"
     ]
    },
    {
     "name": "stdout",
     "output_type": "stream",
     "text": [
      "w\n",
      "r\n",
      "i\n",
      "g\n",
      "i\n"
     ]
    }
   ],
   "source": [
    "#11- Write a Python program to print alternate characters from a given string.\n",
    "som=str(input(\"Enter the word\"))\n",
    "for e in range (len(som)):\n",
    "    if(e==0 or e%2==0):\n",
    "        print(som[e])"
   ]
  },
  {
   "cell_type": "code",
   "execution_count": 51,
   "id": "e201c842-c03a-4167-881b-687ee4cd4252",
   "metadata": {},
   "outputs": [
    {
     "name": "stdin",
     "output_type": "stream",
     "text": [
      "Enter the word wondering\n"
     ]
    },
    {
     "name": "stdout",
     "output_type": "stream",
     "text": [
      "gnirednow\n"
     ]
    }
   ],
   "source": [
    "#12- Write a Python program to reverse a string entered by the user.\n",
    "som=str(input(\"Enter the word\"))\n",
    "rev=''\n",
    "for e in range (len(som)-1,-1,-1):\n",
    "    rev+=som[e]\n",
    "print(rev)"
   ]
  },
  {
   "cell_type": "code",
   "execution_count": 53,
   "id": "52139d51-a10c-48e3-8d48-3e264bf5fcd5",
   "metadata": {},
   "outputs": [
    {
     "name": "stdin",
     "output_type": "stream",
     "text": [
      "Enter the word wondering\n"
     ]
    },
    {
     "name": "stdout",
     "output_type": "stream",
     "text": [
      "9\n"
     ]
    }
   ],
   "source": [
    "#13- Write a Python program to count the total number of characters in a string entered by the user.\n",
    "som=str(input(\"Enter the word\"))\n",
    "rev=0\n",
    "for e in som:\n",
    "    rev+=1\n",
    "print(rev)"
   ]
  },
  {
   "cell_type": "code",
   "execution_count": 56,
   "id": "55cf2d89-cac6-4aad-abdd-9b78473b87a5",
   "metadata": {},
   "outputs": [
    {
     "name": "stdin",
     "output_type": "stream",
     "text": [
      "Enter the word madam\n"
     ]
    },
    {
     "name": "stdout",
     "output_type": "stream",
     "text": [
      "madam is a polyndrom string\n"
     ]
    }
   ],
   "source": [
    "#14- Write a Python program to check whether a string entered by the user is a palindrome.\n",
    "som=str(input(\"Enter the word\"))\n",
    "rev=''\n",
    "for e in range(len(som)-1,-1,-1):\n",
    "    rev+=som[e]\n",
    "if(rev==som):\n",
    "    print(f\"{rev} is a polyndrom string\")\n",
    "else:\n",
    "    print(f\"{som} is a not polyndrom string\")"
   ]
  },
  {
   "cell_type": "code",
   "execution_count": 58,
   "id": "90008d22-ebb0-4ffd-83ae-d8e21ab86c88",
   "metadata": {},
   "outputs": [
    {
     "name": "stdin",
     "output_type": "stream",
     "text": [
      "Enter the word madam\n"
     ]
    },
    {
     "name": "stdout",
     "output_type": "stream",
     "text": [
      "madam is a polyndrom string\n"
     ]
    }
   ],
   "source": [
    "#14- Write a Python program to check whether a string entered by the user is a palindrome.\n",
    "som=str(input(\"Enter the word\"))\n",
    "rev=''\n",
    "for e in reversed(som):\n",
    "    rev+=e\n",
    "if(rev==som):\n",
    "    print(f\"{rev} is a polyndrom string\")\n",
    "else:\n",
    "    print(f\"{som} is a not polyndrom string\")"
   ]
  },
  {
   "cell_type": "code",
   "execution_count": 59,
   "id": "c505715a-a81d-499b-9705-e69e418a637a",
   "metadata": {},
   "outputs": [
    {
     "name": "stdin",
     "output_type": "stream",
     "text": [
      "Enter the string:  working\n",
      "Enter the charecter to search:  j\n"
     ]
    },
    {
     "name": "stdout",
     "output_type": "stream",
     "text": [
      " j is not in working\n"
     ]
    }
   ],
   "source": [
    "#15- Write a Python program that allows the user to search for a character within a given string.\n",
    "text=str(input(\"Enter the string: \"))\n",
    "srch=str(input(\"Enter the charecter to search: \"))\n",
    "lies=False\n",
    "for i in text:\n",
    "    if(i ==srch):\n",
    "        lies=True\n",
    "if(lies):\n",
    "    print(f\" {srch} is in {text}\")\n",
    "else:\n",
    "    print(f\" {srch} is not in {text}\")"
   ]
  },
  {
   "cell_type": "code",
   "execution_count": 62,
   "id": "0dc0581e-5777-416d-9828-efa434e103aa",
   "metadata": {},
   "outputs": [
    {
     "name": "stdin",
     "output_type": "stream",
     "text": [
      "Enter the word wondering\n"
     ]
    },
    {
     "name": "stdout",
     "output_type": "stream",
     "text": [
      "Vowel's are oei\n",
      "Consonent's are wndrng\n"
     ]
    }
   ],
   "source": [
    "#16- Write a Python program to filter out all vowels and consonants from a string entered by the user.\n",
    "som=str(input(\"Enter the word\"))\n",
    "vow=''\n",
    "const=''\n",
    "for i in som:\n",
    "    if(i in \"aeiou\"):\n",
    "        vow+=i\n",
    "    else:\n",
    "        const+=i\n",
    "print(f\"Vowel's are {vow}\")\n",
    "print(f\"Consonent's are {const}\")"
   ]
  },
  {
   "cell_type": "code",
   "execution_count": 63,
   "id": "b2bbb1d2-4936-4ad3-a73e-c247e8af02fb",
   "metadata": {},
   "outputs": [
    {
     "name": "stdin",
     "output_type": "stream",
     "text": [
      "Enter the word programm\n"
     ]
    },
    {
     "name": "stdout",
     "output_type": "stream",
     "text": [
      "r\n",
      "m\n"
     ]
    }
   ],
   "source": [
    "#17- Write a Python program to filter out duplicate characters from a string entered by the user.\n",
    "som=str(input(\"Enter the word\"))\n",
    "vow=''\n",
    "for i in som:\n",
    "    if i in vow:\n",
    "        print(i)\n",
    "    vow+=i"
   ]
  },
  {
   "cell_type": "code",
   "execution_count": 65,
   "id": "1c5d8a37-9b84-4d6c-88d9-aed39dedae4e",
   "metadata": {},
   "outputs": [
    {
     "name": "stdout",
     "output_type": "stream",
     "text": [
      "1:1 ,1:2 ,1:3 ,2:1 ,2:2 ,2:3 ,3:1 ,3:2 ,3:3 ,"
     ]
    }
   ],
   "source": [
    "#18- Write a Python program to display all possible pairs of 3.\n",
    "#  Example: 1:3, 2:3, 3:3 , 2:1 , 2:2 ,2:3 , 3:1 ,3:2 ,3:3\n",
    "for i in range (1,4):\n",
    "    for r in range(1,4):\n",
    "        print(f\"{i}:{r} ,\", end='')"
   ]
  },
  {
   "cell_type": "code",
   "execution_count": 44,
   "id": "f811efb7-503b-41f7-8000-c1f4d59ad2da",
   "metadata": {},
   "outputs": [
    {
     "name": "stdout",
     "output_type": "stream",
     "text": [
      "*     *\n",
      "*     *\n",
      "*     *\n",
      "*******\n",
      "*     *\n",
      "*     *\n",
      "*     *\n"
     ]
    }
   ],
   "source": [
    "#19- Write a Python program to generate the pattern of the letter H.\n",
    "rows = 7 \n",
    "\n",
    "for i in range(rows):\n",
    "    for j in range(rows):\n",
    "        if j == 0 or j == rows - 1 or i == rows // 2:\n",
    "            print(\"*\", end=\"\")\n",
    "        else:\n",
    "            print(\" \", end=\"\")\n",
    "    print()"
   ]
  },
  {
   "cell_type": "code",
   "execution_count": 67,
   "id": "7c02ff7b-8eef-4883-9a49-bb4107cb58b0",
   "metadata": {},
   "outputs": [
    {
     "name": "stdin",
     "output_type": "stream",
     "text": [
      "Enter first word rohit\n",
      "Enter second word virat\n"
     ]
    },
    {
     "name": "stdout",
     "output_type": "stream",
     "text": [
      "Repeating character is r\n",
      "Repeating character is i\n",
      "Repeating character is t\n"
     ]
    }
   ],
   "source": [
    "#20- Write a Python program to find duplicate letters between two strings.\n",
    "#  Example: In \"virat\" and \"rohit\", the duplicate letter is \"r\".\n",
    "text1=str(input(\"Enter first word\"))\n",
    "text2=str(input(\"Enter second word\"))\n",
    "for char in text1:\n",
    "    if(char in text2):\n",
    "        print(f\"Repeating character is {char}\")"
   ]
  },
  {
   "cell_type": "code",
   "execution_count": 68,
   "id": "805038e5-9ca1-4088-9d56-9c9e500ea656",
   "metadata": {},
   "outputs": [
    {
     "name": "stdout",
     "output_type": "stream",
     "text": [
      " Squre of 1 is 1\n",
      " Squre of 2 is 4\n",
      " Squre of 3 is 9\n",
      " Squre of 4 is 16\n",
      " Squre of 5 is 25\n",
      " Squre of 6 is 36\n",
      " Squre of 7 is 49\n",
      " Squre of 8 is 64\n",
      " Squre of 9 is 81\n",
      " Squre of 10 is 100\n"
     ]
    }
   ],
   "source": [
    "#21- Write a Python program to display the squares of numbers from 1 to 10.\n",
    "for i in range(1,11):\n",
    "    print(f\" Squre of {i} is {i**2}\")"
   ]
  },
  {
   "cell_type": "code",
   "execution_count": 69,
   "id": "7dd9fe73-57b2-408d-ab40-7ee2691fce0a",
   "metadata": {},
   "outputs": [
    {
     "name": "stdout",
     "output_type": "stream",
     "text": [
      "15\n"
     ]
    }
   ],
   "source": [
    "#22- Given a string text = \"python\", calculate the sum of the indices of its characters without using the range() or len() functions.\n",
    "text=\"python\"\n",
    "rev=0\n",
    "ind=0\n",
    "for i in text:\n",
    "    ind+=rev\n",
    "    rev+=1\n",
    "print(f\" Sum of indices {ind}\")"
   ]
  },
  {
   "cell_type": "code",
   "execution_count": 1,
   "id": "78576971-aa27-4dba-a14c-9fd9c15e091f",
   "metadata": {},
   "outputs": [
    {
     "name": "stdout",
     "output_type": "stream",
     "text": [
      " Number of vowels is 4\n"
     ]
    }
   ],
   "source": [
    "#23- Given: text = \"python programming\"\n",
    "# Goal: Count how many vowels are in the string.\n",
    "# Constraint: Do not use indexing (text[i]) or slicing (text[:]).\n",
    "text =\"python programming\"\n",
    "vol=0\n",
    "for i in text:\n",
    "    if(i in \"aeiou\"):\n",
    "        vol+=1\n",
    "print(f\" Number of vowels is {vol}\")"
   ]
  },
  {
   "cell_type": "code",
   "execution_count": 71,
   "id": "d45e0e91-1524-45b4-8dc5-af215ccfbf44",
   "metadata": {},
   "outputs": [
    {
     "name": "stdin",
     "output_type": "stream",
     "text": [
      "Enter the word word\n"
     ]
    },
    {
     "name": "stdout",
     "output_type": "stream",
     "text": [
      "w\n",
      "r\n"
     ]
    }
   ],
   "source": [
    "#11- Write a Python program to print alternate characters from a given string.\n",
    "som=str(input(\"Enter the word\"))\n",
    "for e in range (0,len(som),2):\n",
    "    print(som[e])"
   ]
  },
  {
   "cell_type": "code",
   "execution_count": 3,
   "id": "8687a89d-0049-4ed1-ad85-9573f3118d26",
   "metadata": {},
   "outputs": [
    {
     "name": "stdout",
     "output_type": "stream",
     "text": [
      "r is reapting\n",
      "m is reapting\n",
      "g is reapting\n"
     ]
    }
   ],
   "source": [
    "#24- Given: text = \"programming\"\n",
    "# Goal: Print all characters that repeat in the string.\n",
    "text =\"programming\"\n",
    "val=''\n",
    "for i in text:\n",
    "    if(i in val):\n",
    "        print(f\"{i} is reapting\")\n",
    "    val+=i\n",
    "    "
   ]
  },
  {
   "cell_type": "code",
   "execution_count": 5,
   "id": "af661389-f105-40c4-9c28-9a49f17fc84c",
   "metadata": {},
   "outputs": [
    {
     "name": "stdout",
     "output_type": "stream",
     "text": [
      "Greatest char is 7\n"
     ]
    }
   ],
   "source": [
    "#25- Given : 01275623\n",
    "# Write a Python program to find and print the greatest character in the string.\n",
    "text=\"01275623\"\n",
    "grt=text[0]\n",
    "for i in text:\n",
    "    if(i>grt):\n",
    "        grt=i\n",
    "print(f\"Greatest char is {grt}\")"
   ]
  },
  {
   "cell_type": "code",
   "execution_count": 7,
   "id": "fe13fd82-84f4-40f1-af73-d5b7cc3e63fa",
   "metadata": {},
   "outputs": [
    {
     "name": "stdout",
     "output_type": "stream",
     "text": [
      "o is first reapting char\n"
     ]
    }
   ],
   "source": [
    "#26- Given: text = \"knowyourself\"\n",
    "# Goal: Find and print the first character that repeats.\n",
    "text =\"knowyourself\"\n",
    "val=''\n",
    "for i in text:\n",
    "    if(i in val):\n",
    "        print(f\"{i} is first reapting char\")\n",
    "        break\n",
    "    val+=i\n",
    "    "
   ]
  },
  {
   "cell_type": "code",
   "execution_count": 47,
   "id": "ea81f185-ebfc-4196-9043-bcff01faa3d8",
   "metadata": {},
   "outputs": [
    {
     "name": "stdout",
     "output_type": "stream",
     "text": [
      "if you think you can not do, you can not show think wisely\n",
      "\n"
     ]
    }
   ],
   "source": [
    "#27- Give : text=”if you think you can not do, you can not show think wisely” \n",
    "# Goal: Print the alternate words \n",
    "# Constraint: Do not use space between words more than once .\n",
    "text=\"if you think you can not do, you can not show think wisely\"\n",
    "val=''\n",
    "alt=''\n",
    "count=0\n",
    "cond=False\n",
    "for i in text:\n",
    "    if(i==' '):\n",
    "\n",
    "    \n",
    "    if(count==0 or count%2==0):\n",
    "        cond=True\n",
    "    else:\n",
    "        cond=False\n",
    "    if(cond):\n",
    "        val+=i\n",
    "    else:\n",
    "        alt+=i\n",
    "print(val)\n",
    "print(alt)"
   ]
  },
  {
   "cell_type": "code",
   "execution_count": 11,
   "id": "72c3c95d-79c3-4309-9fc3-db5c48aad02a",
   "metadata": {},
   "outputs": [
    {
     "name": "stdout",
     "output_type": "stream",
     "text": [
      "koyusl"
     ]
    }
   ],
   "source": [
    "#28- Given: text = \"knowyourself\"\n",
    "# Goal: Find and print the alternate characters.\n",
    "text=\"knowyourself\"\n",
    "for i in range(0,len(text),2):\n",
    "    print(text[i],end='')"
   ]
  },
  {
   "cell_type": "code",
   "execution_count": 12,
   "id": "2c14067b-89f4-4254-a586-82440bd280b4",
   "metadata": {},
   "outputs": [
    {
     "name": "stdin",
     "output_type": "stream",
     "text": [
      "Enter first number 2\n",
      "Enter second number 10\n"
     ]
    },
    {
     "name": "stdout",
     "output_type": "stream",
     "text": [
      "2 is even\n",
      "3 is odd\n",
      "4 is even\n",
      "5 is odd\n",
      "6 is even\n",
      "7 is odd\n",
      "8 is even\n",
      "9 is odd\n"
     ]
    }
   ],
   "source": [
    "#29- Take two numbers from the user: start and end. Print a string labeling each number in that range as Odd or Even.\n",
    "# Output_format : 3:Odd 4:Even 5:Odd 6:Even 7:Odd 8:Even 9:Odd\n",
    "num1=int(input(\"Enter first number\"))\n",
    "num2=int(input(\"Enter second number\"))\n",
    "if num2>num1:\n",
    "    for i  in range(num1,num2):\n",
    "        if(i%2==0):\n",
    "            print(f\"{i} is even\")\n",
    "        else:\n",
    "            print(f\"{i} is odd\")\n",
    "            "
   ]
  },
  {
   "cell_type": "code",
   "execution_count": 13,
   "id": "598585b0-4785-4c62-a777-13f6f3a25665",
   "metadata": {},
   "outputs": [
    {
     "name": "stdout",
     "output_type": "stream",
     "text": [
      "Sum of the string is 58\n"
     ]
    }
   ],
   "source": [
    "#30.Find the sum of string “198765456412”.\n",
    "text=\"198765456412\"\n",
    "val=0\n",
    "for i in text:\n",
    "    val+=int(i)\n",
    "print(f\"Sum of the string is {val}\")\n",
    "    "
   ]
  },
  {
   "cell_type": "code",
   "execution_count": 14,
   "id": "0706a76e-a533-4430-b2aa-42e2e98ea2e7",
   "metadata": {},
   "outputs": [
    {
     "name": "stdout",
     "output_type": "stream",
     "text": [
      "5 digits are greater than 5\n"
     ]
    }
   ],
   "source": [
    "#31.Count how many digits in the string are greater than 5 from text = \"1234567890\".\n",
    "text=\"198765456412\"\n",
    "val=0\n",
    "for i in text:\n",
    "    if(int(i)>5):\n",
    "        val+=1\n",
    "print(f\"{val} digits are greater than 5\")\n",
    "    "
   ]
  },
  {
   "cell_type": "code",
   "execution_count": 16,
   "id": "4e3f2f94-e552-47a4-baad-fc1cb6f32109",
   "metadata": {},
   "outputs": [
    {
     "name": "stdin",
     "output_type": "stream",
     "text": [
      "Enter the String:  bird\n",
      "Enter the word replace:  b\n",
      "Enter the word replace by:  c\n"
     ]
    },
    {
     "name": "stdout",
     "output_type": "stream",
     "text": [
      "cird\n"
     ]
    }
   ],
   "source": [
    "#32.Task: Replace Character in String\n",
    "# Write a program that takes a string input from the user, then asks for a character to replace and the character to replace it with. The program should output the modified string where all occurrences of the specified character are replaced by the replacement character.\n",
    "text=str(input(\"Enter the String: \"))\n",
    "rep=str(input(\"Enter the word replace: \"))\n",
    "by=str(input(\"Enter the word replace by: \"))\n",
    "val=''\n",
    "for i in text:\n",
    "    if(i==rep):\n",
    "        val+=by\n",
    "    else:\n",
    "        val+=i\n",
    "print(val)\n",
    "        "
   ]
  },
  {
   "cell_type": "code",
   "execution_count": 26,
   "id": "eef8afa5-0c7a-484c-82c4-aca985e5f6c1",
   "metadata": {},
   "outputs": [
    {
     "name": "stdin",
     "output_type": "stream",
     "text": [
      "Enter the String:  worr rd\n"
     ]
    },
    {
     "name": "stdout",
     "output_type": "stream",
     "text": [
      "-\n",
      "worr_rd\n"
     ]
    }
   ],
   "source": [
    "# 33.Replace Spaces with Underscores Replace all spaces in a string with underscores (_) \n",
    "text=str(input(\"Enter the String: \"))\n",
    "val=''\n",
    "for i in range(0,len(text)):\n",
    "    if(text[i]==' '):\n",
    "        val+='_'\n",
    "    else:\n",
    "        val+=text[i]\n",
    "print(val)"
   ]
  },
  {
   "cell_type": "code",
   "execution_count": 28,
   "id": "0b07ffda-eb79-4b58-85ef-48f09b0f750f",
   "metadata": {},
   "outputs": [
    {
     "name": "stdin",
     "output_type": "stream",
     "text": [
      "Enter the String:  willingness\n"
     ]
    },
    {
     "name": "stdout",
     "output_type": "stream",
     "text": [
      "wilnges\n"
     ]
    }
   ],
   "source": [
    "# 34.Remove Duplicate characters from the string given by the user then print the final output.\n",
    "text=str(input(\"Enter the String: \"))\n",
    "val=''\n",
    "for i in text:\n",
    "    if i in val:\n",
    "        continue\n",
    "    val+=i\n",
    "print(val)"
   ]
  },
  {
   "cell_type": "code",
   "execution_count": 29,
   "id": "f18a549d-00d7-452f-adb8-b362d1688ec2",
   "metadata": {},
   "outputs": [
    {
     "name": "stdin",
     "output_type": "stream",
     "text": [
      "Enter the String:  equation\n"
     ]
    },
    {
     "name": "stdout",
     "output_type": "stream",
     "text": [
      "*q**t**n\n"
     ]
    }
   ],
   "source": [
    "# 35.Take string from user and Replace every vowel in the string with an asterisk *.\n",
    "text=str(input(\"Enter the String: \"))\n",
    "val=''\n",
    "for i in text:\n",
    "    if i in \"aeiou\":\n",
    "        val+='*'\n",
    "    else:\n",
    "        val+=i\n",
    "print(val)"
   ]
  },
  {
   "cell_type": "code",
   "execution_count": 36,
   "id": "db9a74e2-1ac7-4687-985c-6f596718651b",
   "metadata": {},
   "outputs": [
    {
     "name": "stdin",
     "output_type": "stream",
     "text": [
      "Enter the String:    \n"
     ]
    },
    {
     "name": "stdout",
     "output_type": "stream",
     "text": [
      "3\n"
     ]
    }
   ],
   "source": [
    "# 36.Count only words not spaces.\n",
    "# \tEntered a string: Hello coders from Success24\n",
    "# \tNumber of words: 4\n",
    "text=str(input(\"Enter the String: \"))\n",
    "val=1\n",
    "for i in text:\n",
    "    if i==' ':\n",
    "        val+=1\n",
    "print(val)"
   ]
  },
  {
   "cell_type": "code",
   "execution_count": 32,
   "id": "037a8e13-8e78-4e9f-ac5d-5af81f9970a5",
   "metadata": {},
   "outputs": [
    {
     "name": "stdin",
     "output_type": "stream",
     "text": [
      "Enter the String:  JinDgi Hai KUTti\n"
     ]
    },
    {
     "name": "stdout",
     "output_type": "stream",
     "text": [
      "Upper case letter count is 6\n",
      "Lower case letter count is 8\n"
     ]
    }
   ],
   "source": [
    "# 37.Task: Count how many uppercase and lowercase letters are in a string.\n",
    "text=str(input(\"Enter the String: \"))\n",
    "upval=0\n",
    "loval=0\n",
    "for i in text:\n",
    "    if i.isupper():\n",
    "        upval+=1\n",
    "    elif i.islower():\n",
    "        loval+=1\n",
    "print(f\"Upper case letter count is {upval}\")\n",
    "print(f\"Lower case letter count is {loval}\")"
   ]
  },
  {
   "cell_type": "code",
   "execution_count": 34,
   "id": "7b427932-409c-4a97-98e5-cc14eb1f79ea",
   "metadata": {},
   "outputs": [
    {
     "name": "stdin",
     "output_type": "stream",
     "text": [
      "Enter the String:  kamikazi\n"
     ]
    },
    {
     "name": "stdout",
     "output_type": "stream",
     "text": [
      "Odd indices charecter is a\n",
      "Odd indices charecter is i\n",
      "Odd indices charecter is a\n",
      "Odd indices charecter is i\n"
     ]
    }
   ],
   "source": [
    "# 38.Task: Print all characters from the string that are at odd indices.\n",
    "text=str(input(\"Enter the String: \"))\n",
    "for i in range(1,len(text),2):\n",
    "    print(f\"Odd indices charecter is {text[i]}\")\n"
   ]
  },
  {
   "cell_type": "code",
   "execution_count": 35,
   "id": "9cd189a7-838c-4a00-a5e7-8113f01ef28c",
   "metadata": {},
   "outputs": [
    {
     "name": "stdin",
     "output_type": "stream",
     "text": [
      "Enter the String:  here is the game\n"
     ]
    },
    {
     "name": "stdout",
     "output_type": "stream",
     "text": [
      "hereisthegame\n"
     ]
    }
   ],
   "source": [
    "# 39.Task: Create a new string by removing all spaces from the input string.\n",
    "# \tEnter a string:  how are you all\n",
    "#   \tString without spaces: howareyouall\n",
    "text=str(input(\"Enter the String: \"))\n",
    "val=''\n",
    "for i in text:\n",
    "    if i==' ':\n",
    "        continue\n",
    "    val+=i\n",
    "print(val)"
   ]
  },
  {
   "cell_type": "code",
   "execution_count": 38,
   "id": "d84a6738-e15c-4423-8e95-23bf3e54891d",
   "metadata": {},
   "outputs": [
    {
     "name": "stdout",
     "output_type": "stream",
     "text": [
      "Total number of the digits is 4\n"
     ]
    }
   ],
   "source": [
    "# 40.Count how many digits in a string entered by the user.\n",
    "# \ttext=”sytax_error2806 hai ”\n",
    "text=str(input(\"Enter the String: \"))\n",
    "val=0\n",
    "for i in text :\n",
    "    if i in \"1234567890\":\n",
    "        val+=1\n",
    "print(f\"Total number of the digits is {val}\")\n"
   ]
  },
  {
   "cell_type": "code",
   "execution_count": 41,
   "id": "884e00a4-5842-48e3-ba5a-10cc8c828523",
   "metadata": {},
   "outputs": [
    {
     "name": "stdin",
     "output_type": "stream",
     "text": [
      "Enter the String:  sokjj82nq888   uwwuq89\n"
     ]
    },
    {
     "name": "stdout",
     "output_type": "stream",
     "text": [
      " There are 12 alphabate present in the string\n"
     ]
    }
   ],
   "source": [
    "# 41.Count only alphabets (both uppercase and lowercase).\n",
    "# \tEnter a string:  this123 i am \n",
    "# \tNumber of letters: 7\n",
    "text=str(input(\"Enter the String: \"))\n",
    "val=0\n",
    "for i in text :\n",
    "    if i.isalpha():\n",
    "        val+=1\n",
    "print(f\"{val} alphabate present in the string\")"
   ]
  },
  {
   "cell_type": "code",
   "execution_count": null,
   "id": "cae24888-7ca5-4dba-a7a2-2d9c243c3da3",
   "metadata": {},
   "outputs": [],
   "source": []
  }
 ],
 "metadata": {
  "kernelspec": {
   "display_name": "Python 3 (ipykernel)",
   "language": "python",
   "name": "python3"
  },
  "language_info": {
   "codemirror_mode": {
    "name": "ipython",
    "version": 3
   },
   "file_extension": ".py",
   "mimetype": "text/x-python",
   "name": "python",
   "nbconvert_exporter": "python",
   "pygments_lexer": "ipython3",
   "version": "3.13.3"
  }
 },
 "nbformat": 4,
 "nbformat_minor": 5
}
